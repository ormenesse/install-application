{
 "cells": [
  {
   "cell_type": "code",
   "execution_count": null,
   "metadata": {},
   "outputs": [],
   "source": []
  },
  {
   "cell_type": "code",
   "execution_count": 1,
   "metadata": {},
   "outputs": [],
   "source": [
    "%load_ext autoreload\n",
    "%autoreload 2"
   ]
  },
  {
   "cell_type": "code",
   "execution_count": 2,
   "metadata": {},
   "outputs": [],
   "source": [
    "from installFunctions import *\n",
    "import pandas as pd\n",
    "import numpy as np"
   ]
  },
  {
   "cell_type": "code",
   "execution_count": 3,
   "metadata": {},
   "outputs": [],
   "source": [
    "from datetime import date"
   ]
  },
  {
   "cell_type": "code",
   "execution_count": 4,
   "metadata": {},
   "outputs": [],
   "source": [
    "import holidays"
   ]
  },
  {
   "cell_type": "code",
   "execution_count": 15,
   "metadata": {},
   "outputs": [
    {
     "data": {
      "text/plain": [
       "0    20000.0\n",
       "dtype: float64"
      ]
     },
     "execution_count": 15,
     "metadata": {},
     "output_type": "execute_result"
    }
   ],
   "source": [
    "df = pd.json_normalize({\n",
    "                    \"0\": 2149.9490193973884,\n",
    "                    \"1\": 564.98581487886,\n",
    "                    \"2\": 523.1814058539516,\n",
    "                    \"3\": 437.11255238527644,\n",
    "                    \"4\": 435.2049838676448,\n",
    "                    \"5\": 378.59894994276414,\n",
    "                    \"6\": 343.45782173841917,\n",
    "                    \"7\": 287.5634090841976,\n",
    "                    \"8\": 247.0057243873266,\n",
    "                    \"9\": 197.01631917212785,\n",
    "                    \"10\": 142.25775514488254,\n",
    "                    \"11\": 93.05447691582715\n",
    "                })\n",
    "df.sum(axis=1)"
   ]
  },
  {
   "cell_type": "code",
   "execution_count": 14,
   "metadata": {},
   "outputs": [
    {
     "data": {
      "text/plain": [
       "0    20000.0\n",
       "dtype: float64"
      ]
     },
     "execution_count": 14,
     "metadata": {},
     "output_type": "execute_result"
    }
   ],
   "source": [
    "df = pd.json_normalize({\n",
    "                    \"0\": 0.0,\n",
    "                    \"1\": 1584.9632045185285,\n",
    "                    \"2\": 1626.7676135434367,\n",
    "                    \"3\": 1712.8364670121118,\n",
    "                    \"4\": 1714.7440355297435,\n",
    "                    \"5\": 1771.3500694546242,\n",
    "                    \"6\": 1806.4911976589692,\n",
    "                    \"7\": 1862.3856103131907,\n",
    "                    \"8\": 1902.9432950100618,\n",
    "                    \"9\": 1952.9327002252605,\n",
    "                    \"10\": 2007.6912642525058,\n",
    "                    \"11\": 2056.894542481561\n",
    "                })\n",
    "df.sum(axis=1)"
   ]
  },
  {
   "cell_type": "code",
   "execution_count": 10,
   "metadata": {},
   "outputs": [
    {
     "data": {
      "text/plain": [
       "0    5799.388233\n",
       "dtype: float64"
      ]
     },
     "execution_count": 10,
     "metadata": {},
     "output_type": "execute_result"
    }
   ],
   "source": [
    "df = pd.json_normalize({\n",
    "                    \"0\": 2580.0740471448157,\n",
    "                    \"1\": 525.8835396290939,\n",
    "                    \"2\": 484.0791306041854,\n",
    "                    \"3\": 398.0102771355103,\n",
    "                    \"4\": 396.10270861787865,\n",
    "                    \"5\": 339.496674692998,\n",
    "                    \"6\": 304.35554648865303,\n",
    "                    \"7\": 248.46113383443148,\n",
    "                    \"8\": 207.9034491375605,\n",
    "                    \"9\": 157.9140439223617,\n",
    "                    \"10\": 103.15547989511643,\n",
    "                    \"11\": 53.95220166606103\n",
    "                })\n",
    "df.sum(axis=1)"
   ]
  },
  {
   "cell_type": "code",
   "execution_count": 5,
   "metadata": {},
   "outputs": [],
   "source": [
    "gyra_fees = pd.read_csv('./install_csv/gyra_fees.csv')"
   ]
  },
  {
   "cell_type": "code",
   "execution_count": 6,
   "metadata": {},
   "outputs": [],
   "source": [
    "import requests"
   ]
  },
  {
   "cell_type": "code",
   "execution_count": 7,
   "metadata": {},
   "outputs": [],
   "source": [
    "import werkzeug"
   ]
  },
  {
   "cell_type": "code",
   "execution_count": 79,
   "metadata": {},
   "outputs": [],
   "source": [
    "rPaymentDate = datetime.datetime.strptime('20-12-2020', '%d-%m-%Y')\n",
    "rDisbursementDate = datetime.datetime.strptime('29-10-2020', '%d-%m-%Y')\n",
    "period = 24"
   ]
  },
  {
   "cell_type": "code",
   "execution_count": 9,
   "metadata": {},
   "outputs": [],
   "source": [
    "days_each_month, installDates, payDay = returnDaysEachMonth(period, rPaymentDate, rDisbursementDate)"
   ]
  },
  {
   "cell_type": "code",
   "execution_count": 10,
   "metadata": {},
   "outputs": [
    {
     "data": {
      "text/plain": [
       "[52,\n",
       " 31,\n",
       " 31,\n",
       " 28,\n",
       " 31,\n",
       " 30,\n",
       " 31,\n",
       " 30,\n",
       " 31,\n",
       " 31,\n",
       " 30,\n",
       " 31,\n",
       " 30,\n",
       " 31,\n",
       " 31,\n",
       " 28,\n",
       " 31,\n",
       " 30,\n",
       " 31,\n",
       " 30,\n",
       " 31,\n",
       " 31,\n",
       " 30,\n",
       " 31]"
      ]
     },
     "execution_count": 10,
     "metadata": {},
     "output_type": "execute_result"
    }
   ],
   "source": [
    "days_each_month"
   ]
  },
  {
   "cell_type": "code",
   "execution_count": 11,
   "metadata": {},
   "outputs": [],
   "source": [
    "installments = pd.DataFrame(amortization_schedule(16800.0, 0.0379, period, rPaymentDate, rDisbursementDate))"
   ]
  },
  {
   "cell_type": "code",
   "execution_count": 12,
   "metadata": {},
   "outputs": [
    {
     "data": {
      "text/html": [
       "<div>\n",
       "<style scoped>\n",
       "    .dataframe tbody tr th:only-of-type {\n",
       "        vertical-align: middle;\n",
       "    }\n",
       "\n",
       "    .dataframe tbody tr th {\n",
       "        vertical-align: top;\n",
       "    }\n",
       "\n",
       "    .dataframe thead th {\n",
       "        text-align: right;\n",
       "    }\n",
       "</style>\n",
       "<table border=\"1\" class=\"dataframe\">\n",
       "  <thead>\n",
       "    <tr style=\"text-align: right;\">\n",
       "      <th></th>\n",
       "      <th>installDates</th>\n",
       "      <th>payDayDates</th>\n",
       "      <th>number</th>\n",
       "      <th>amortization_amount</th>\n",
       "      <th>interest</th>\n",
       "      <th>principal</th>\n",
       "      <th>balance</th>\n",
       "    </tr>\n",
       "  </thead>\n",
       "  <tbody>\n",
       "    <tr>\n",
       "      <th>0</th>\n",
       "      <td>2020-12-20</td>\n",
       "      <td>2020-12-21</td>\n",
       "      <td>1</td>\n",
       "      <td>1113.426112</td>\n",
       "      <td>1118.933969</td>\n",
       "      <td>-5.507857</td>\n",
       "      <td>16805.507857</td>\n",
       "    </tr>\n",
       "    <tr>\n",
       "      <th>1</th>\n",
       "      <td>2021-01-20</td>\n",
       "      <td>2021-01-20</td>\n",
       "      <td>2</td>\n",
       "      <td>1113.426112</td>\n",
       "      <td>658.570459</td>\n",
       "      <td>454.855653</td>\n",
       "      <td>16350.652205</td>\n",
       "    </tr>\n",
       "    <tr>\n",
       "      <th>2</th>\n",
       "      <td>2021-02-20</td>\n",
       "      <td>2021-02-22</td>\n",
       "      <td>3</td>\n",
       "      <td>1113.426112</td>\n",
       "      <td>640.745678</td>\n",
       "      <td>472.680434</td>\n",
       "      <td>15877.971771</td>\n",
       "    </tr>\n",
       "    <tr>\n",
       "      <th>3</th>\n",
       "      <td>2021-03-20</td>\n",
       "      <td>2021-03-22</td>\n",
       "      <td>4</td>\n",
       "      <td>1113.426112</td>\n",
       "      <td>560.956607</td>\n",
       "      <td>552.469505</td>\n",
       "      <td>15325.502266</td>\n",
       "    </tr>\n",
       "    <tr>\n",
       "      <th>4</th>\n",
       "      <td>2021-04-20</td>\n",
       "      <td>2021-04-20</td>\n",
       "      <td>5</td>\n",
       "      <td>1113.426112</td>\n",
       "      <td>600.572333</td>\n",
       "      <td>512.853779</td>\n",
       "      <td>14812.648487</td>\n",
       "    </tr>\n",
       "    <tr>\n",
       "      <th>5</th>\n",
       "      <td>2021-05-20</td>\n",
       "      <td>2021-05-20</td>\n",
       "      <td>6</td>\n",
       "      <td>1113.426112</td>\n",
       "      <td>561.399378</td>\n",
       "      <td>552.026734</td>\n",
       "      <td>14260.621753</td>\n",
       "    </tr>\n",
       "    <tr>\n",
       "      <th>6</th>\n",
       "      <td>2021-06-20</td>\n",
       "      <td>2021-06-21</td>\n",
       "      <td>7</td>\n",
       "      <td>1113.426112</td>\n",
       "      <td>558.842035</td>\n",
       "      <td>554.584077</td>\n",
       "      <td>13706.037676</td>\n",
       "    </tr>\n",
       "    <tr>\n",
       "      <th>7</th>\n",
       "      <td>2021-07-20</td>\n",
       "      <td>2021-07-20</td>\n",
       "      <td>8</td>\n",
       "      <td>1113.426112</td>\n",
       "      <td>519.458828</td>\n",
       "      <td>593.967284</td>\n",
       "      <td>13112.070392</td>\n",
       "    </tr>\n",
       "    <tr>\n",
       "      <th>8</th>\n",
       "      <td>2021-08-20</td>\n",
       "      <td>2021-08-20</td>\n",
       "      <td>9</td>\n",
       "      <td>1113.426112</td>\n",
       "      <td>513.832863</td>\n",
       "      <td>599.593249</td>\n",
       "      <td>12512.477143</td>\n",
       "    </tr>\n",
       "    <tr>\n",
       "      <th>9</th>\n",
       "      <td>2021-09-20</td>\n",
       "      <td>2021-09-20</td>\n",
       "      <td>10</td>\n",
       "      <td>1113.426112</td>\n",
       "      <td>490.336138</td>\n",
       "      <td>623.089974</td>\n",
       "      <td>11889.387169</td>\n",
       "    </tr>\n",
       "    <tr>\n",
       "      <th>10</th>\n",
       "      <td>2021-10-20</td>\n",
       "      <td>2021-10-20</td>\n",
       "      <td>11</td>\n",
       "      <td>1113.426112</td>\n",
       "      <td>450.607774</td>\n",
       "      <td>662.818338</td>\n",
       "      <td>11226.568831</td>\n",
       "    </tr>\n",
       "    <tr>\n",
       "      <th>11</th>\n",
       "      <td>2021-11-20</td>\n",
       "      <td>2021-11-22</td>\n",
       "      <td>12</td>\n",
       "      <td>1113.426112</td>\n",
       "      <td>439.944252</td>\n",
       "      <td>673.481860</td>\n",
       "      <td>10553.086971</td>\n",
       "    </tr>\n",
       "    <tr>\n",
       "      <th>12</th>\n",
       "      <td>2021-12-20</td>\n",
       "      <td>2021-12-20</td>\n",
       "      <td>13</td>\n",
       "      <td>1113.426112</td>\n",
       "      <td>399.961996</td>\n",
       "      <td>713.464116</td>\n",
       "      <td>9839.622856</td>\n",
       "    </tr>\n",
       "    <tr>\n",
       "      <th>13</th>\n",
       "      <td>2022-01-20</td>\n",
       "      <td>2022-01-20</td>\n",
       "      <td>14</td>\n",
       "      <td>1113.426112</td>\n",
       "      <td>385.592926</td>\n",
       "      <td>727.833186</td>\n",
       "      <td>9111.789669</td>\n",
       "    </tr>\n",
       "    <tr>\n",
       "      <th>14</th>\n",
       "      <td>2022-02-20</td>\n",
       "      <td>2022-02-21</td>\n",
       "      <td>15</td>\n",
       "      <td>1113.426112</td>\n",
       "      <td>357.070763</td>\n",
       "      <td>756.355349</td>\n",
       "      <td>8355.434320</td>\n",
       "    </tr>\n",
       "    <tr>\n",
       "      <th>15</th>\n",
       "      <td>2022-03-20</td>\n",
       "      <td>2022-03-21</td>\n",
       "      <td>16</td>\n",
       "      <td>1113.426112</td>\n",
       "      <td>295.191108</td>\n",
       "      <td>818.235003</td>\n",
       "      <td>7537.199316</td>\n",
       "    </tr>\n",
       "    <tr>\n",
       "      <th>16</th>\n",
       "      <td>2022-04-20</td>\n",
       "      <td>2022-04-20</td>\n",
       "      <td>17</td>\n",
       "      <td>1113.426112</td>\n",
       "      <td>295.366070</td>\n",
       "      <td>818.060042</td>\n",
       "      <td>6719.139275</td>\n",
       "    </tr>\n",
       "    <tr>\n",
       "      <th>17</th>\n",
       "      <td>2022-05-20</td>\n",
       "      <td>2022-05-20</td>\n",
       "      <td>18</td>\n",
       "      <td>1113.426112</td>\n",
       "      <td>254.655379</td>\n",
       "      <td>858.770733</td>\n",
       "      <td>5860.368541</td>\n",
       "    </tr>\n",
       "    <tr>\n",
       "      <th>18</th>\n",
       "      <td>2022-06-20</td>\n",
       "      <td>2022-06-20</td>\n",
       "      <td>19</td>\n",
       "      <td>1113.426112</td>\n",
       "      <td>229.654803</td>\n",
       "      <td>883.771309</td>\n",
       "      <td>4976.597233</td>\n",
       "    </tr>\n",
       "    <tr>\n",
       "      <th>19</th>\n",
       "      <td>2022-07-20</td>\n",
       "      <td>2022-07-20</td>\n",
       "      <td>20</td>\n",
       "      <td>1113.426112</td>\n",
       "      <td>188.613035</td>\n",
       "      <td>924.813077</td>\n",
       "      <td>4051.784156</td>\n",
       "    </tr>\n",
       "    <tr>\n",
       "      <th>20</th>\n",
       "      <td>2022-08-20</td>\n",
       "      <td>2022-08-22</td>\n",
       "      <td>21</td>\n",
       "      <td>1113.426112</td>\n",
       "      <td>158.780405</td>\n",
       "      <td>954.645706</td>\n",
       "      <td>3097.138449</td>\n",
       "    </tr>\n",
       "    <tr>\n",
       "      <th>21</th>\n",
       "      <td>2022-09-20</td>\n",
       "      <td>2022-09-20</td>\n",
       "      <td>22</td>\n",
       "      <td>1113.426112</td>\n",
       "      <td>121.369964</td>\n",
       "      <td>992.056148</td>\n",
       "      <td>2105.082302</td>\n",
       "    </tr>\n",
       "    <tr>\n",
       "      <th>22</th>\n",
       "      <td>2022-10-20</td>\n",
       "      <td>2022-10-20</td>\n",
       "      <td>23</td>\n",
       "      <td>1113.426112</td>\n",
       "      <td>79.782619</td>\n",
       "      <td>1033.643493</td>\n",
       "      <td>1071.438809</td>\n",
       "    </tr>\n",
       "    <tr>\n",
       "      <th>23</th>\n",
       "      <td>2022-11-20</td>\n",
       "      <td>2022-11-21</td>\n",
       "      <td>24</td>\n",
       "      <td>1113.426112</td>\n",
       "      <td>41.987303</td>\n",
       "      <td>1071.438809</td>\n",
       "      <td>0.000000</td>\n",
       "    </tr>\n",
       "  </tbody>\n",
       "</table>\n",
       "</div>"
      ],
      "text/plain": [
       "   installDates payDayDates  number  amortization_amount     interest  \\\n",
       "0    2020-12-20  2020-12-21       1          1113.426112  1118.933969   \n",
       "1    2021-01-20  2021-01-20       2          1113.426112   658.570459   \n",
       "2    2021-02-20  2021-02-22       3          1113.426112   640.745678   \n",
       "3    2021-03-20  2021-03-22       4          1113.426112   560.956607   \n",
       "4    2021-04-20  2021-04-20       5          1113.426112   600.572333   \n",
       "5    2021-05-20  2021-05-20       6          1113.426112   561.399378   \n",
       "6    2021-06-20  2021-06-21       7          1113.426112   558.842035   \n",
       "7    2021-07-20  2021-07-20       8          1113.426112   519.458828   \n",
       "8    2021-08-20  2021-08-20       9          1113.426112   513.832863   \n",
       "9    2021-09-20  2021-09-20      10          1113.426112   490.336138   \n",
       "10   2021-10-20  2021-10-20      11          1113.426112   450.607774   \n",
       "11   2021-11-20  2021-11-22      12          1113.426112   439.944252   \n",
       "12   2021-12-20  2021-12-20      13          1113.426112   399.961996   \n",
       "13   2022-01-20  2022-01-20      14          1113.426112   385.592926   \n",
       "14   2022-02-20  2022-02-21      15          1113.426112   357.070763   \n",
       "15   2022-03-20  2022-03-21      16          1113.426112   295.191108   \n",
       "16   2022-04-20  2022-04-20      17          1113.426112   295.366070   \n",
       "17   2022-05-20  2022-05-20      18          1113.426112   254.655379   \n",
       "18   2022-06-20  2022-06-20      19          1113.426112   229.654803   \n",
       "19   2022-07-20  2022-07-20      20          1113.426112   188.613035   \n",
       "20   2022-08-20  2022-08-22      21          1113.426112   158.780405   \n",
       "21   2022-09-20  2022-09-20      22          1113.426112   121.369964   \n",
       "22   2022-10-20  2022-10-20      23          1113.426112    79.782619   \n",
       "23   2022-11-20  2022-11-21      24          1113.426112    41.987303   \n",
       "\n",
       "      principal       balance  \n",
       "0     -5.507857  16805.507857  \n",
       "1    454.855653  16350.652205  \n",
       "2    472.680434  15877.971771  \n",
       "3    552.469505  15325.502266  \n",
       "4    512.853779  14812.648487  \n",
       "5    552.026734  14260.621753  \n",
       "6    554.584077  13706.037676  \n",
       "7    593.967284  13112.070392  \n",
       "8    599.593249  12512.477143  \n",
       "9    623.089974  11889.387169  \n",
       "10   662.818338  11226.568831  \n",
       "11   673.481860  10553.086971  \n",
       "12   713.464116   9839.622856  \n",
       "13   727.833186   9111.789669  \n",
       "14   756.355349   8355.434320  \n",
       "15   818.235003   7537.199316  \n",
       "16   818.060042   6719.139275  \n",
       "17   858.770733   5860.368541  \n",
       "18   883.771309   4976.597233  \n",
       "19   924.813077   4051.784156  \n",
       "20   954.645706   3097.138449  \n",
       "21   992.056148   2105.082302  \n",
       "22  1033.643493   1071.438809  \n",
       "23  1071.438809      0.000000  "
      ]
     },
     "execution_count": 12,
     "metadata": {},
     "output_type": "execute_result"
    }
   ],
   "source": [
    "installments"
   ]
  },
  {
   "cell_type": "code",
   "execution_count": 75,
   "metadata": {},
   "outputs": [
    {
     "data": {
      "text/plain": [
       "(0.644437386263919, 0.042320897814650094)"
      ]
     },
     "execution_count": 75,
     "metadata": {},
     "output_type": "execute_result"
    }
   ],
   "source": [
    "initial_amount = 16000\n",
    "\n",
    "array_irr = [ (i[1], i[0]) for i in installments[['amortization_amount','installDates']].values ]\n",
    "\n",
    "addDay = datetime.date(rDisbursementDate.year, rDisbursementDate.month, rDisbursementDate.day)\n",
    "\n",
    "array_irr.insert(0,(datetime.date(addDay.year, addDay.month, addDay.day),-initial_amount))\n",
    "\n",
    "annualCet = np.round(xirr(array_irr),6)\n",
    "\n",
    "cet = ((annualCet+1)**(30/365))-1\n",
    "\n",
    "annualCet = ((1+cet)**12) - 1\n",
    "\n",
    "annualCet,cet"
   ]
  },
  {
   "cell_type": "code",
   "execution_count": 48,
   "metadata": {},
   "outputs": [],
   "source": [
    "days_each_month, installDates, payDay = returnDaysEachMonth(period, datetime.datetime.strptime('20-12-2020', '%d-%m-%Y'), datetime.datetime.strptime('20-11-2020', '%d-%m-%Y'))"
   ]
  },
  {
   "cell_type": "code",
   "execution_count": 84,
   "metadata": {},
   "outputs": [
    {
     "name": "stdout",
     "output_type": "stream",
     "text": [
      "0.04292112688471161 0.655837\n",
      "0.042320897814650094 0.644437386263919\n"
     ]
    },
    {
     "data": {
      "text/plain": [
       "({'installDates': {0: datetime.date(2020, 12, 20),\n",
       "   1: datetime.date(2021, 1, 20),\n",
       "   2: datetime.date(2021, 2, 20),\n",
       "   3: datetime.date(2021, 3, 20),\n",
       "   4: datetime.date(2021, 4, 20),\n",
       "   5: datetime.date(2021, 5, 20),\n",
       "   6: datetime.date(2021, 6, 20),\n",
       "   7: datetime.date(2021, 7, 20),\n",
       "   8: datetime.date(2021, 8, 20),\n",
       "   9: datetime.date(2021, 9, 20),\n",
       "   10: datetime.date(2021, 10, 20),\n",
       "   11: datetime.date(2021, 11, 20),\n",
       "   12: datetime.date(2021, 12, 20),\n",
       "   13: datetime.date(2022, 1, 20),\n",
       "   14: datetime.date(2022, 2, 20),\n",
       "   15: datetime.date(2022, 3, 20),\n",
       "   16: datetime.date(2022, 4, 20),\n",
       "   17: datetime.date(2022, 5, 20),\n",
       "   18: datetime.date(2022, 6, 20),\n",
       "   19: datetime.date(2022, 7, 20),\n",
       "   20: datetime.date(2022, 8, 20),\n",
       "   21: datetime.date(2022, 9, 20),\n",
       "   22: datetime.date(2022, 10, 20),\n",
       "   23: datetime.date(2022, 11, 20)},\n",
       "  'payDayDates': {0: datetime.date(2020, 12, 21),\n",
       "   1: datetime.date(2021, 1, 20),\n",
       "   2: datetime.date(2021, 2, 22),\n",
       "   3: datetime.date(2021, 3, 22),\n",
       "   4: datetime.date(2021, 4, 20),\n",
       "   5: datetime.date(2021, 5, 20),\n",
       "   6: datetime.date(2021, 6, 21),\n",
       "   7: datetime.date(2021, 7, 20),\n",
       "   8: datetime.date(2021, 8, 20),\n",
       "   9: datetime.date(2021, 9, 20),\n",
       "   10: datetime.date(2021, 10, 20),\n",
       "   11: datetime.date(2021, 11, 22),\n",
       "   12: datetime.date(2021, 12, 20),\n",
       "   13: datetime.date(2022, 1, 20),\n",
       "   14: datetime.date(2022, 2, 21),\n",
       "   15: datetime.date(2022, 3, 21),\n",
       "   16: datetime.date(2022, 4, 20),\n",
       "   17: datetime.date(2022, 5, 20),\n",
       "   18: datetime.date(2022, 6, 20),\n",
       "   19: datetime.date(2022, 7, 20),\n",
       "   20: datetime.date(2022, 8, 22),\n",
       "   21: datetime.date(2022, 9, 20),\n",
       "   22: datetime.date(2022, 10, 20),\n",
       "   23: datetime.date(2022, 11, 21)},\n",
       "  'number': {0: 1,\n",
       "   1: 2,\n",
       "   2: 3,\n",
       "   3: 4,\n",
       "   4: 5,\n",
       "   5: 6,\n",
       "   6: 7,\n",
       "   7: 8,\n",
       "   8: 9,\n",
       "   9: 10,\n",
       "   10: 11,\n",
       "   11: 12,\n",
       "   12: 13,\n",
       "   13: 14,\n",
       "   14: 15,\n",
       "   15: 16,\n",
       "   16: 17,\n",
       "   17: 18,\n",
       "   18: 19,\n",
       "   19: 20,\n",
       "   20: 21,\n",
       "   21: 22,\n",
       "   22: 23,\n",
       "   23: 24},\n",
       "  'amortization_amount': {0: 1113.4261119189464,\n",
       "   1: 1113.4261119189464,\n",
       "   2: 1113.4261119189464,\n",
       "   3: 1113.4261119189464,\n",
       "   4: 1113.4261119189464,\n",
       "   5: 1113.4261119189464,\n",
       "   6: 1113.4261119189464,\n",
       "   7: 1113.4261119189464,\n",
       "   8: 1113.4261119189464,\n",
       "   9: 1113.4261119189464,\n",
       "   10: 1113.4261119189464,\n",
       "   11: 1113.4261119189464,\n",
       "   12: 1113.4261119189464,\n",
       "   13: 1113.4261119189464,\n",
       "   14: 1113.4261119189464,\n",
       "   15: 1113.4261119189464,\n",
       "   16: 1113.4261119189464,\n",
       "   17: 1113.4261119189464,\n",
       "   18: 1113.4261119189464,\n",
       "   19: 1113.4261119189464,\n",
       "   20: 1113.4261119189464,\n",
       "   21: 1113.4261119189464,\n",
       "   22: 1113.4261119189464,\n",
       "   23: 1113.4261119189464},\n",
       "  'interest': {0: 1118.9339693004626,\n",
       "   1: 658.5704590545172,\n",
       "   2: 640.7456781164692,\n",
       "   3: 560.9566070814193,\n",
       "   4: 600.5723330786805,\n",
       "   5: 561.3993776586959,\n",
       "   6: 558.8420352321452,\n",
       "   7: 519.4588279238027,\n",
       "   8: 513.8328630446018,\n",
       "   9: 490.33613777403974,\n",
       "   10: 450.60777370795705,\n",
       "   11: 439.9442522828629,\n",
       "   12: 399.9619962095529,\n",
       "   13: 385.592925597672,\n",
       "   14: 357.0707625247972,\n",
       "   15: 295.1911084369978,\n",
       "   16: 295.36607021102395,\n",
       "   17: 254.65537850785606,\n",
       "   18: 229.6548032443538,\n",
       "   19: 188.6130351128086,\n",
       "   20: 158.78040545210163,\n",
       "   21: 121.36996439446064,\n",
       "   22: 79.7826192355844,\n",
       "   23: 41.98730287184035},\n",
       "  'principal': {0: -5.50785738151626,\n",
       "   1: 454.8556528644292,\n",
       "   2: 472.6804338024772,\n",
       "   3: 552.4695048375271,\n",
       "   4: 512.8537788402659,\n",
       "   5: 552.0267342602505,\n",
       "   6: 554.5840766868012,\n",
       "   7: 593.9672839951437,\n",
       "   8: 599.5932488743446,\n",
       "   9: 623.0899741449066,\n",
       "   10: 662.8183382109894,\n",
       "   11: 673.4818596360835,\n",
       "   12: 713.4641157093935,\n",
       "   13: 727.8331863212744,\n",
       "   14: 756.3553493941492,\n",
       "   15: 818.2350034819485,\n",
       "   16: 818.0600417079224,\n",
       "   17: 858.7707334110903,\n",
       "   18: 883.7713086745925,\n",
       "   19: 924.8130768061378,\n",
       "   20: 954.6457064668448,\n",
       "   21: 992.0561475244857,\n",
       "   22: 1033.643492683362,\n",
       "   23: 1071.4388090471061},\n",
       "  'balance': {0: 16805.507857381515,\n",
       "   1: 16350.652204517086,\n",
       "   2: 15877.971770714608,\n",
       "   3: 15325.502265877081,\n",
       "   4: 14812.648487036815,\n",
       "   5: 14260.621752776564,\n",
       "   6: 13706.037676089763,\n",
       "   7: 13112.07039209462,\n",
       "   8: 12512.477143220276,\n",
       "   9: 11889.38716907537,\n",
       "   10: 11226.56883086438,\n",
       "   11: 10553.086971228297,\n",
       "   12: 9839.622855518903,\n",
       "   13: 9111.789669197628,\n",
       "   14: 8355.434319803479,\n",
       "   15: 7537.19931632153,\n",
       "   16: 6719.139274613608,\n",
       "   17: 5860.368541202518,\n",
       "   18: 4976.597232527925,\n",
       "   19: 4051.7841557217876,\n",
       "   20: 3097.1384492549428,\n",
       "   21: 2105.082301730457,\n",
       "   22: 1071.438809047095,\n",
       "   23: 0.0}},\n",
       " 0.042320897814650094,\n",
       " 0.644437386263919,\n",
       " 0)"
      ]
     },
     "execution_count": 84,
     "metadata": {},
     "output_type": "execute_result"
    }
   ],
   "source": [
    "calculate_amortization_schedule_with_taxes(16800, 16000, 0.0379, period=24, iof=False, rPaymentDate=rPaymentDate, rDisbursementDate=rDisbursementDate)"
   ]
  },
  {
   "cell_type": "markdown",
   "metadata": {},
   "source": [
    "# IRR"
   ]
  },
  {
   "cell_type": "code",
   "execution_count": 271,
   "metadata": {},
   "outputs": [
    {
     "data": {
      "text/plain": [
       "('cet 4.7253%', 'Annual Cet 74.0274%')"
      ]
     },
     "execution_count": 271,
     "metadata": {},
     "output_type": "execute_result"
    }
   ],
   "source": [
    "initial_amount = 65000\n",
    "array_irr = list(installments['amortization_amount'].values)\n",
    "array_irr.insert(0,-initial_amount)\n",
    "\n",
    "cet = np.irr(array_irr)\n",
    "annualCet = (1+cet)**12-1\n",
    "\n",
    "'cet ' + str(np.round(cet*100,4))+'%','Annual Cet ' + str(np.round(annualCet*100,4))+'%'"
   ]
  },
  {
   "cell_type": "markdown",
   "metadata": {},
   "source": [
    "# XIRR"
   ]
  },
  {
   "cell_type": "code",
   "execution_count": 272,
   "metadata": {},
   "outputs": [],
   "source": [
    "def xirr(transactions):\n",
    "    years = [(ta[0] - transactions[0][0]).days / 365.0 for ta in transactions]\n",
    "    residual = 1\n",
    "    step = 0.05\n",
    "    guess = 0.05\n",
    "    epsilon = 0.0001\n",
    "    limit = 10000\n",
    "    while abs(residual) > epsilon and limit > 0:\n",
    "        limit -= 1\n",
    "        residual = 0.0\n",
    "        for i, ta in enumerate(transactions):\n",
    "            residual += ta[1] / pow(guess, years[i])\n",
    "        if abs(residual) > epsilon:\n",
    "            if residual > 0:\n",
    "                guess += step\n",
    "            else:\n",
    "                guess -= step\n",
    "                step /= 2.0\n",
    "    return guess-1"
   ]
  },
  {
   "cell_type": "code",
   "execution_count": 273,
   "metadata": {},
   "outputs": [],
   "source": [
    "array_irr = [ (i[1], i[0]) for i in installments[['amortization_amount','installDates']].values ]"
   ]
  },
  {
   "cell_type": "code",
   "execution_count": 274,
   "metadata": {},
   "outputs": [],
   "source": [
    "array_irr.insert(0,(datetime.date(rDisbursementDate.year, rDisbursementDate.month, rDisbursementDate.day+1),-65000))"
   ]
  },
  {
   "cell_type": "code",
   "execution_count": 275,
   "metadata": {},
   "outputs": [
    {
     "data": {
      "text/plain": [
       "'Annual Cet 68.2616%'"
      ]
     },
     "execution_count": 275,
     "metadata": {},
     "output_type": "execute_result"
    }
   ],
   "source": [
    "'Annual Cet ' + str(np.round(xirr(array_irr)*100,4))+'%'"
   ]
  },
  {
   "cell_type": "code",
   "execution_count": 276,
   "metadata": {},
   "outputs": [],
   "source": [
    "def xirr(df, guess=0.05, date_column='date', amount_column='amount'):\n",
    "    '''Calculates XIRR from a series of cashflows. \n",
    "       Needs a dataframe with columns date and amount, customisable through parameters. \n",
    "       Requires Pandas, NumPy libraries'''\n",
    "\n",
    "    df = df.sort_values(by=date_column).reset_index(drop=True)\n",
    "\n",
    "    amounts = df[amount_column].values\n",
    "    dates = df[date_column].values\n",
    "\n",
    "    years = np.array(dates-dates[0], dtype='timedelta64[D]').astype(int)/365\n",
    "\n",
    "    step = 0.05\n",
    "    epsilon = 0.0001\n",
    "    limit = 1000\n",
    "    residual = 1\n",
    "\n",
    "    #Test for direction of cashflows\n",
    "    disc_val_1 = np.sum(amounts/((1+guess)**years))\n",
    "    disc_val_2 = np.sum(amounts/((1.05+guess)**years))\n",
    "    mul = 1 if disc_val_2 < disc_val_1 else -1\n",
    "\n",
    "    #Calculate XIRR    \n",
    "    for i in range(limit):\n",
    "        prev_residual = residual\n",
    "        residual = np.sum(amounts/((1+guess)**years))\n",
    "        if abs(residual) > epsilon:\n",
    "            if np.sign(residual) != np.sign(prev_residual):\n",
    "                step /= 2\n",
    "            guess = guess + step * np.sign(residual) * mul   \n",
    "        else:\n",
    "            return guess"
   ]
  },
  {
   "cell_type": "code",
   "execution_count": 277,
   "metadata": {},
   "outputs": [
    {
     "data": {
      "text/plain": [
       "'Annual Cet 68.2616%'"
      ]
     },
     "execution_count": 277,
     "metadata": {},
     "output_type": "execute_result"
    }
   ],
   "source": [
    "'Annual Cet ' + str(np.round(xirr(pd.DataFrame(array_irr),0.04,0,1)*100,4))+'%'"
   ]
  },
  {
   "cell_type": "code",
   "execution_count": 236,
   "metadata": {},
   "outputs": [],
   "source": [
    "from scipy import optimize"
   ]
  },
  {
   "cell_type": "code",
   "execution_count": 237,
   "metadata": {},
   "outputs": [],
   "source": [
    "def xnpv(rate, values, dates):\n",
    "    '''Equivalent of Excel's XNPV function.\n",
    "\n",
    "    >>> from datetime import date\n",
    "    >>> dates = [date(2010, 12, 29), date(2012, 1, 25), date(2012, 3, 8)]\n",
    "    >>> values = [-10000, 20, 10100]\n",
    "    >>> xnpv(0.1, values, dates)\n",
    "    -966.4345...\n",
    "    '''\n",
    "    if rate <= -1.0:\n",
    "        return float('inf')\n",
    "    d0 = dates[0]    # or min(dates)\n",
    "    return sum([ vi / (1.0 + rate)**((di - d0).days / 365.0) for vi, di in zip(values, dates)])\n",
    "\n",
    "def xirr(values, dates):\n",
    "    '''Equivalent of Excel's XIRR function.\n",
    "\n",
    "    >>> from datetime import date\n",
    "    >>> dates = [date(2010, 12, 29), date(2012, 1, 25), date(2012, 3, 8)]\n",
    "    >>> values = [-10000, 20, 10100]\n",
    "    >>> xirr(values, dates)\n",
    "    0.0100612...\n",
    "    '''\n",
    "    try:\n",
    "        return scipy.optimize.newton(lambda r: xnpv(r, values, dates), 0.0)\n",
    "    except RuntimeError:    # Failed to converge?\n",
    "        return scipy.optimize.brentq(lambda r: xnpv(r, values, dates), -1.0, 1e10)"
   ]
  },
  {
   "cell_type": "code",
   "execution_count": 238,
   "metadata": {},
   "outputs": [],
   "source": [
    "values = [ i[0] for i in installments[['amortization_amount','installDates']].values ]\n",
    "dates = [ i[1] for i in installments[['amortization_amount','installDates']].values ]\n",
    "values.insert(0,-65000)\n",
    "dates.insert(0,datetime.date(rDisbursementDate.year, rDisbursementDate.month, rDisbursementDate.day))"
   ]
  },
  {
   "cell_type": "code",
   "execution_count": 239,
   "metadata": {},
   "outputs": [
    {
     "data": {
      "text/plain": [
       "0.6826159706073737"
      ]
     },
     "execution_count": 239,
     "metadata": {},
     "output_type": "execute_result"
    }
   ],
   "source": [
    "xirr(values, dates)"
   ]
  },
  {
   "cell_type": "code",
   "execution_count": 2,
   "metadata": {},
   "outputs": [
    {
     "data": {
      "text/plain": [
       "0.04725264567610643"
      ]
     },
     "execution_count": 2,
     "metadata": {},
     "output_type": "execute_result"
    }
   ],
   "source": [
    "((0.740273849822884+1)**(1/12))-1"
   ]
  },
  {
   "cell_type": "code",
   "execution_count": null,
   "metadata": {},
   "outputs": [],
   "source": []
  }
 ],
 "metadata": {
  "kernelspec": {
   "display_name": "Python 3",
   "language": "python",
   "name": "python3"
  },
  "language_info": {
   "codemirror_mode": {
    "name": "ipython",
    "version": 3
   },
   "file_extension": ".py",
   "mimetype": "text/x-python",
   "name": "python",
   "nbconvert_exporter": "python",
   "pygments_lexer": "ipython3",
   "version": "3.8.5"
  }
 },
 "nbformat": 4,
 "nbformat_minor": 4
}
