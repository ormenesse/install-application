{
 "cells": [
  {
   "cell_type": "code",
   "execution_count": 1,
   "metadata": {},
   "outputs": [],
   "source": [
    "%load_ext autoreload\n",
    "%autoreload 2"
   ]
  },
  {
   "cell_type": "code",
   "execution_count": 2,
   "metadata": {},
   "outputs": [],
   "source": [
    "from installFunctions import *\n",
    "import pandas as pd\n",
    "import numpy as np"
   ]
  },
  {
   "cell_type": "code",
   "execution_count": 3,
   "metadata": {},
   "outputs": [],
   "source": [
    "from datetime import date"
   ]
  },
  {
   "cell_type": "code",
   "execution_count": 4,
   "metadata": {},
   "outputs": [],
   "source": [
    "import holidays"
   ]
  },
  {
   "cell_type": "code",
   "execution_count": 5,
   "metadata": {},
   "outputs": [],
   "source": [
    "gyra_fees = pd.read_csv('./install_csv/gyra_fees.csv')"
   ]
  },
  {
   "cell_type": "code",
   "execution_count": 6,
   "metadata": {},
   "outputs": [],
   "source": [
    "import requests"
   ]
  },
  {
   "cell_type": "code",
   "execution_count": 7,
   "metadata": {},
   "outputs": [],
   "source": [
    "import werkzeug"
   ]
  },
  {
   "cell_type": "code",
   "execution_count": 8,
   "metadata": {},
   "outputs": [],
   "source": [
    "import datetime\n",
    "rPaymentDate = datetime.datetime.strptime('08-08-2023', '%d-%m-%Y')\n",
    "rDisbursementDate = datetime.datetime.strptime('09-05-2023', '%d-%m-%Y')\n",
    "period = 12\n",
    "amount = 17000\n",
    "interest = 0.051"
   ]
  },
  {
   "cell_type": "code",
   "execution_count": 9,
   "metadata": {},
   "outputs": [],
   "source": [
    "co = CreditOperation()"
   ]
  },
  {
   "cell_type": "code",
   "execution_count": 10,
   "metadata": {},
   "outputs": [],
   "source": [
    "days_each_month, installDates, payDay = co.returnDaysEachMonth(period, rPaymentDate, rDisbursementDate)"
   ]
  },
  {
   "cell_type": "code",
   "execution_count": 11,
   "metadata": {},
   "outputs": [
    {
     "data": {
      "text/plain": [
       "[91, 31, 30, 31, 30, 31, 31, 29, 31, 30, 31, 30]"
      ]
     },
     "execution_count": 11,
     "metadata": {},
     "output_type": "execute_result"
    }
   ],
   "source": [
    "days_each_month"
   ]
  },
  {
   "cell_type": "code",
   "execution_count": 12,
   "metadata": {},
   "outputs": [
    {
     "data": {
      "text/plain": [
       "426"
      ]
     },
     "execution_count": 12,
     "metadata": {},
     "output_type": "execute_result"
    }
   ],
   "source": [
    "sum(days_each_month)"
   ]
  },
  {
   "cell_type": "code",
   "execution_count": 13,
   "metadata": {},
   "outputs": [
    {
     "data": {
      "text/plain": [
       "([datetime.date(2023, 8, 8),\n",
       "  datetime.date(2023, 9, 8),\n",
       "  datetime.date(2023, 10, 8),\n",
       "  datetime.date(2023, 11, 8),\n",
       "  datetime.date(2023, 12, 8),\n",
       "  datetime.date(2024, 1, 8),\n",
       "  datetime.date(2024, 2, 8),\n",
       "  datetime.date(2024, 3, 8),\n",
       "  datetime.date(2024, 4, 8),\n",
       "  datetime.date(2024, 5, 8),\n",
       "  datetime.date(2024, 6, 8),\n",
       "  datetime.date(2024, 7, 8)],\n",
       " [datetime.date(2023, 8, 8),\n",
       "  datetime.date(2023, 9, 8),\n",
       "  datetime.date(2023, 10, 9),\n",
       "  datetime.date(2023, 11, 8),\n",
       "  datetime.date(2023, 12, 8),\n",
       "  datetime.date(2024, 1, 8),\n",
       "  datetime.date(2024, 2, 8),\n",
       "  datetime.date(2024, 3, 8),\n",
       "  datetime.date(2024, 4, 8),\n",
       "  datetime.date(2024, 5, 8),\n",
       "  datetime.date(2024, 6, 10),\n",
       "  datetime.date(2024, 7, 8)])"
      ]
     },
     "execution_count": 13,
     "metadata": {},
     "output_type": "execute_result"
    }
   ],
   "source": [
    "installDates,payDay"
   ]
  },
  {
   "cell_type": "code",
   "execution_count": 14,
   "metadata": {},
   "outputs": [
    {
     "data": {
      "text/plain": [
       "319.6"
      ]
     },
     "execution_count": 14,
     "metadata": {},
     "output_type": "execute_result"
    }
   ],
   "source": [
    "amount = 17000\n",
    "iof_fee_2 = amount*0.015\n",
    "iof_fee_2 = iof_fee_2 + amount*0.0038\n",
    "iof_fee_2"
   ]
  },
  {
   "cell_type": "code",
   "execution_count": 15,
   "metadata": {},
   "outputs": [
    {
     "data": {
      "text/plain": [
       "([{'installDates': datetime.date(2023, 8, 8),\n",
       "   'payDayDates': datetime.date(2023, 8, 8),\n",
       "   'number': 1,\n",
       "   'amortization_amount': 10346.822441,\n",
       "   'interest': 6467.260438,\n",
       "   'principal': 3879.562003,\n",
       "   'balance': 97240.875994},\n",
       "  {'installDates': datetime.date(2023, 9, 8),\n",
       "   'payDayDates': datetime.date(2023, 9, 8),\n",
       "   'number': 2,\n",
       "   'amortization_amount': 10346.822441,\n",
       "   'interest': 2080.058553,\n",
       "   'principal': 8266.763888,\n",
       "   'balance': 84586.91022},\n",
       "  {'installDates': datetime.date(2023, 10, 8),\n",
       "   'payDayDates': datetime.date(2023, 10, 9),\n",
       "   'number': 3,\n",
       "   'amortization_amount': 10346.822441,\n",
       "   'interest': 1847.788115,\n",
       "   'principal': 8499.034326,\n",
       "   'balance': 75855.605456},\n",
       "  {'installDates': datetime.date(2023, 11, 8),\n",
       "   'payDayDates': datetime.date(2023, 11, 8),\n",
       "   'number': 4,\n",
       "   'amortization_amount': 10346.822441,\n",
       "   'interest': 1735.184236,\n",
       "   'principal': 8611.638205,\n",
       "   'balance': 67131.363372},\n",
       "  {'installDates': datetime.date(2023, 12, 8),\n",
       "   'payDayDates': datetime.date(2023, 12, 8),\n",
       "   'number': 5,\n",
       "   'amortization_amount': 10346.822441,\n",
       "   'interest': 1507.285731,\n",
       "   'principal': 8839.53671,\n",
       "   'balance': 58063.928158},\n",
       "  {'installDates': datetime.date(2024, 1, 8),\n",
       "   'payDayDates': datetime.date(2024, 1, 8),\n",
       "   'number': 6,\n",
       "   'amortization_amount': 10346.822441,\n",
       "   'interest': 1376.211645,\n",
       "   'principal': 8970.610796,\n",
       "   'balance': 48962.243275},\n",
       "  {'installDates': datetime.date(2024, 2, 8),\n",
       "   'payDayDates': datetime.date(2024, 2, 8),\n",
       "   'number': 7,\n",
       "   'amortization_amount': 10346.822441,\n",
       "   'interest': 1191.685192,\n",
       "   'principal': 9155.137249,\n",
       "   'balance': 39622.579574},\n",
       "  {'installDates': datetime.date(2024, 3, 8),\n",
       "   'payDayDates': datetime.date(2024, 3, 8),\n",
       "   'number': 8,\n",
       "   'amortization_amount': 10346.822441,\n",
       "   'interest': 938.011581,\n",
       "   'principal': 9408.81086,\n",
       "   'balance': 29960.095103},\n",
       "  {'installDates': datetime.date(2024, 4, 8),\n",
       "   'payDayDates': datetime.date(2024, 4, 8),\n",
       "   'number': 9,\n",
       "   'amortization_amount': 10346.822441,\n",
       "   'interest': 809.822734,\n",
       "   'principal': 9536.999707,\n",
       "   'balance': 20294.906549},\n",
       "  {'installDates': datetime.date(2024, 5, 8),\n",
       "   'payDayDates': datetime.date(2024, 5, 8),\n",
       "   'number': 10,\n",
       "   'amortization_amount': 10346.822441,\n",
       "   'interest': 593.654934,\n",
       "   'principal': 9753.167507,\n",
       "   'balance': 10325.571243},\n",
       "  {'installDates': datetime.date(2024, 6, 8),\n",
       "   'payDayDates': datetime.date(2024, 6, 10),\n",
       "   'number': 11,\n",
       "   'amortization_amount': 10346.822441,\n",
       "   'interest': 413.021869,\n",
       "   'principal': 9933.800572,\n",
       "   'balance': 211.137605},\n",
       "  {'installDates': datetime.date(2024, 7, 8),\n",
       "   'payDayDates': datetime.date(2024, 7, 8),\n",
       "   'number': 12,\n",
       "   'amortization_amount': 10346.822441,\n",
       "   'interest': 201.88427,\n",
       "   'principal': 10144.938171,\n",
       "   'balance': 0}],\n",
       " 10346.822441)"
      ]
     },
     "execution_count": 15,
     "metadata": {},
     "output_type": "execute_result"
    }
   ],
   "source": [
    "co.amortization_schedule(105000.0, 0.0199, period, rPaymentDate, rDisbursementDate)"
   ]
  },
  {
   "cell_type": "code",
   "execution_count": 16,
   "metadata": {},
   "outputs": [],
   "source": [
    "installments = co.amortization_schedule(amount, interest, period, rPaymentDate, rDisbursementDate)"
   ]
  },
  {
   "cell_type": "code",
   "execution_count": 42,
   "metadata": {},
   "outputs": [
    {
     "name": "stdout",
     "output_type": "stream",
     "text": [
      "1\n",
      "2\n",
      "3\n",
      "4\n",
      "5\n",
      "6\n",
      "7\n"
     ]
    },
    {
     "data": {
      "text/plain": [
       "15742.073499548222"
      ]
     },
     "execution_count": 42,
     "metadata": {},
     "output_type": "execute_result"
    }
   ],
   "source": [
    "co.find_pre_approved_with_fees(2000, 0.05, period, True, rPaymentDate, rDisbursementDate)"
   ]
  },
  {
   "cell_type": "code",
   "execution_count": 17,
   "metadata": {},
   "outputs": [
    {
     "data": {
      "text/plain": [
       "([{'installDates': datetime.date(2023, 8, 8),\n",
       "   'payDayDates': datetime.date(2023, 8, 8),\n",
       "   'number': 1,\n",
       "   'amortization_amount': 2143.273309,\n",
       "   'interest': 2143.273309,\n",
       "   'principal': 0.0,\n",
       "   'balance': 17625.38341},\n",
       "  {'installDates': datetime.date(2023, 9, 8),\n",
       "   'payDayDates': datetime.date(2023, 9, 8),\n",
       "   'number': 2,\n",
       "   'amortization_amount': 2143.273309,\n",
       "   'interest': 1555.017986,\n",
       "   'principal': 588.255323,\n",
       "   'balance': 15823.489355},\n",
       "  {'installDates': datetime.date(2023, 10, 8),\n",
       "   'payDayDates': datetime.date(2023, 10, 9),\n",
       "   'number': 3,\n",
       "   'amortization_amount': 2143.273309,\n",
       "   'interest': 836.998979,\n",
       "   'principal': 1306.27433,\n",
       "   'balance': 13799.196016},\n",
       "  {'installDates': datetime.date(2023, 11, 8),\n",
       "   'payDayDates': datetime.date(2023, 11, 8),\n",
       "   'number': 4,\n",
       "   'amortization_amount': 2143.273309,\n",
       "   'interest': 796.724088,\n",
       "   'principal': 1346.549221,\n",
       "   'balance': 12412.371905},\n",
       "  {'installDates': datetime.date(2023, 12, 8),\n",
       "   'payDayDates': datetime.date(2023, 12, 8),\n",
       "   'number': 5,\n",
       "   'amortization_amount': 2143.273309,\n",
       "   'interest': 701.704977,\n",
       "   'principal': 1441.568332,\n",
       "   'balance': 10875.784463},\n",
       "  {'installDates': datetime.date(2024, 1, 8),\n",
       "   'payDayDates': datetime.date(2024, 1, 8),\n",
       "   'number': 6,\n",
       "   'amortization_amount': 2143.273309,\n",
       "   'interest': 649.667402,\n",
       "   'principal': 1493.605907,\n",
       "   'balance': 9330.140979},\n",
       "  {'installDates': datetime.date(2024, 2, 8),\n",
       "   'payDayDates': datetime.date(2024, 2, 8),\n",
       "   'number': 7,\n",
       "   'amortization_amount': 2143.273309,\n",
       "   'interest': 570.888537,\n",
       "   'principal': 1572.384772,\n",
       "   'balance': 7678.977343},\n",
       "  {'installDates': datetime.date(2024, 3, 8),\n",
       "   'payDayDates': datetime.date(2024, 3, 8),\n",
       "   'number': 8,\n",
       "   'amortization_amount': 2143.273309,\n",
       "   'interest': 455.711113,\n",
       "   'principal': 1687.562196,\n",
       "   'balance': 5876.237722},\n",
       "  {'installDates': datetime.date(2024, 4, 8),\n",
       "   'payDayDates': datetime.date(2024, 4, 8),\n",
       "   'number': 9,\n",
       "   'amortization_amount': 2143.273309,\n",
       "   'interest': 398.945644,\n",
       "   'principal': 1744.327665,\n",
       "   'balance': 4075.144588},\n",
       "  {'installDates': datetime.date(2024, 5, 8),\n",
       "   'payDayDates': datetime.date(2024, 5, 8),\n",
       "   'number': 10,\n",
       "   'amortization_amount': 2143.273309,\n",
       "   'interest': 296.793085,\n",
       "   'principal': 1846.480224,\n",
       "   'balance': 2126.511805},\n",
       "  {'installDates': datetime.date(2024, 6, 8),\n",
       "   'payDayDates': datetime.date(2024, 6, 10),\n",
       "   'number': 11,\n",
       "   'amortization_amount': 2143.273309,\n",
       "   'interest': 209.551797,\n",
       "   'principal': 1933.721512,\n",
       "   'balance': 105.549005},\n",
       "  {'installDates': datetime.date(2024, 7, 8),\n",
       "   'payDayDates': datetime.date(2024, 7, 8),\n",
       "   'number': 12,\n",
       "   'amortization_amount': 2143.273309,\n",
       "   'interest': 104.002796,\n",
       "   'principal': 2039.270513,\n",
       "   'balance': 0}],\n",
       " 2143.273309)"
      ]
     },
     "execution_count": 17,
     "metadata": {},
     "output_type": "execute_result"
    }
   ],
   "source": [
    "installments"
   ]
  },
  {
   "cell_type": "code",
   "execution_count": 18,
   "metadata": {},
   "outputs": [],
   "source": [
    "preaprwfees = 17000\n",
    "preapr = 17000\n",
    "adjusted = True\n",
    "iof_fee = True\n",
    "interest_rate = 0.051\n",
    "iofadjust = True"
   ]
  },
  {
   "cell_type": "code",
   "execution_count": 43,
   "metadata": {},
   "outputs": [],
   "source": [
    "table, cet, acet, iofval, installAmount = co.calculate_amortization_schedule_with_taxes(preaprwfees, preapr, interest_rate, period, iofadjust, iof_fee, adjusted, rPaymentDate, rDisbursementDate)"
   ]
  },
  {
   "cell_type": "code",
   "execution_count": 45,
   "metadata": {},
   "outputs": [
    {
     "data": {
      "text/plain": [
       "({'installDates': {0: datetime.date(2023, 8, 8),\n",
       "   1: datetime.date(2023, 9, 8),\n",
       "   2: datetime.date(2023, 10, 8)},\n",
       "  'payDayDates': {0: datetime.date(2023, 8, 8),\n",
       "   1: datetime.date(2023, 9, 8),\n",
       "   2: datetime.date(2023, 10, 9)},\n",
       "  'number': {0: 1, 1: 2, 2: 3},\n",
       "  'amortization_amount': {0: 5740.122128, 1: 5740.122128, 2: 5740.122128},\n",
       "  'interest': {0: 979.322554, 1: 229.132758, 2: 111.999638},\n",
       "  'principal': {0: 4760.799574, 1: 5510.98937, 2: 5628.12249},\n",
       "  'balance': {0: 11139.111861, 1: 5628.122492, 2: 0.0}},\n",
       " 0.034726,\n",
       " 0.506275,\n",
       " 151.33832,\n",
       " 5740.122128)"
      ]
     },
     "execution_count": 45,
     "metadata": {},
     "output_type": "execute_result"
    }
   ],
   "source": [
    "co.calculate_amortization_schedule_with_taxes(15750.0,15000.0,0.0199,3,False,True,False, rPaymentDate, rDisbursementDate)"
   ]
  },
  {
   "cell_type": "code",
   "execution_count": 20,
   "metadata": {},
   "outputs": [
    {
     "data": {
      "text/plain": [
       "datetime.timedelta(days=-336)"
      ]
     },
     "execution_count": 20,
     "metadata": {},
     "output_type": "execute_result"
    }
   ],
   "source": [
    "datetime.datetime(2023,5,9)-datetime.datetime(2024,4,9)"
   ]
  },
  {
   "cell_type": "code",
   "execution_count": 21,
   "metadata": {},
   "outputs": [],
   "source": [
    "installments = pd.json_normalize(\n",
    "    [{'installDates': datetime.date(2023, 8, 8), 'payDayDates': datetime.date(2023, 8, 8), 'number': 1, 'amortization_amount': 2143.273309, 'interest': 2143.273309, 'principal': 0.0, 'balance': 17625.3834103699}, {'installDates': datetime.date(2023, 9, 8), 'payDayDates': datetime.date(2023, 9, 8), 'number': 2, 'amortization_amount': 2143.273309, 'interest': 1555.0179863657893, 'principal': 588.2553226342109, 'balance': 15823.489354731575}, {'installDates': datetime.date(2023, 10, 8), 'payDayDates': datetime.date(2023, 10, 9), 'number': 3, 'amortization_amount': 2143.273309, 'interest': 836.998978545654, 'principal': 1306.274330454346, 'balance': 13799.196016457096}, {'installDates': datetime.date(2023, 11, 8), 'payDayDates': datetime.date(2023, 11, 8), 'number': 4, 'amortization_amount': 2143.273309, 'interest': 796.7240878804099, 'principal': 1346.5492211195901, 'balance': 12412.37190467226}, {'installDates': datetime.date(2023, 12, 8), 'payDayDates': datetime.date(2023, 12, 8), 'number': 5, 'amortization_amount': 2143.273309, 'interest': 701.7049774153835, 'principal': 1441.5683315846168, 'balance': 10875.784462622618}, {'installDates': datetime.date(2024, 1, 8), 'payDayDates': datetime.date(2024, 1, 8), 'number': 6, 'amortization_amount': 2143.273309, 'interest': 649.6674015895516, 'principal': 1493.6059074104487, 'balance': 9330.140979386337}, {'installDates': datetime.date(2024, 2, 8), 'payDayDates': datetime.date(2024, 2, 8), 'number': 7, 'amortization_amount': 2143.273309, 'interest': 570.888536919661, 'principal': 1572.3847720803392, 'balance': 7678.977342636108}, {'installDates': datetime.date(2024, 3, 8), 'payDayDates': datetime.date(2024, 3, 8), 'number': 8, 'amortization_amount': 2143.273309, 'interest': 455.7111128691842, 'principal': 1687.562196130816, 'balance': 5876.2377224548145}, {'installDates': datetime.date(2024, 4, 8), 'payDayDates': datetime.date(2024, 4, 8), 'number': 9, 'amortization_amount': 2143.273309, 'interest': 398.9456437069649, 'principal': 1744.3276652930354, 'balance': 4075.14458799956}, {'installDates': datetime.date(2024, 5, 8), 'payDayDates': datetime.date(2024, 5, 8), 'number': 10, 'amortization_amount': 2143.273309, 'interest': 296.793084917922, 'principal': 1846.4802240820782, 'balance': 2126.511805128439}, {'installDates': datetime.date(2024, 6, 8), 'payDayDates': datetime.date(2024, 6, 10), 'number': 11, 'amortization_amount': 2143.273309, 'interest': 209.5517966625979, 'principal': 1933.7215123374021, 'balance': 105.54900453571281}, {'installDates': datetime.date(2024, 7, 8), 'payDayDates': datetime.date(2024, 7, 8), 'number': 12, 'amortization_amount': 2143.273309, 'interest': 104.00279636052873, 'principal': 2039.2705126394715, 'balance': 0.0}]\n",
    ")"
   ]
  },
  {
   "cell_type": "code",
   "execution_count": 22,
   "metadata": {},
   "outputs": [
    {
     "data": {
      "text/html": [
       "<div>\n",
       "<style scoped>\n",
       "    .dataframe tbody tr th:only-of-type {\n",
       "        vertical-align: middle;\n",
       "    }\n",
       "\n",
       "    .dataframe tbody tr th {\n",
       "        vertical-align: top;\n",
       "    }\n",
       "\n",
       "    .dataframe thead th {\n",
       "        text-align: right;\n",
       "    }\n",
       "</style>\n",
       "<table border=\"1\" class=\"dataframe\">\n",
       "  <thead>\n",
       "    <tr style=\"text-align: right;\">\n",
       "      <th></th>\n",
       "      <th>installDates</th>\n",
       "      <th>payDayDates</th>\n",
       "      <th>number</th>\n",
       "      <th>amortization_amount</th>\n",
       "      <th>interest</th>\n",
       "      <th>principal</th>\n",
       "      <th>balance</th>\n",
       "    </tr>\n",
       "  </thead>\n",
       "  <tbody>\n",
       "    <tr>\n",
       "      <th>0</th>\n",
       "      <td>2023-08-08</td>\n",
       "      <td>2023-08-08</td>\n",
       "      <td>1</td>\n",
       "      <td>2143.273309</td>\n",
       "      <td>2143.273309</td>\n",
       "      <td>0.000000</td>\n",
       "      <td>17625.383410</td>\n",
       "    </tr>\n",
       "    <tr>\n",
       "      <th>1</th>\n",
       "      <td>2023-09-08</td>\n",
       "      <td>2023-09-08</td>\n",
       "      <td>2</td>\n",
       "      <td>2143.273309</td>\n",
       "      <td>1555.017986</td>\n",
       "      <td>588.255323</td>\n",
       "      <td>15823.489355</td>\n",
       "    </tr>\n",
       "    <tr>\n",
       "      <th>2</th>\n",
       "      <td>2023-10-08</td>\n",
       "      <td>2023-10-09</td>\n",
       "      <td>3</td>\n",
       "      <td>2143.273309</td>\n",
       "      <td>836.998979</td>\n",
       "      <td>1306.274330</td>\n",
       "      <td>13799.196016</td>\n",
       "    </tr>\n",
       "    <tr>\n",
       "      <th>3</th>\n",
       "      <td>2023-11-08</td>\n",
       "      <td>2023-11-08</td>\n",
       "      <td>4</td>\n",
       "      <td>2143.273309</td>\n",
       "      <td>796.724088</td>\n",
       "      <td>1346.549221</td>\n",
       "      <td>12412.371905</td>\n",
       "    </tr>\n",
       "    <tr>\n",
       "      <th>4</th>\n",
       "      <td>2023-12-08</td>\n",
       "      <td>2023-12-08</td>\n",
       "      <td>5</td>\n",
       "      <td>2143.273309</td>\n",
       "      <td>701.704977</td>\n",
       "      <td>1441.568332</td>\n",
       "      <td>10875.784463</td>\n",
       "    </tr>\n",
       "    <tr>\n",
       "      <th>5</th>\n",
       "      <td>2024-01-08</td>\n",
       "      <td>2024-01-08</td>\n",
       "      <td>6</td>\n",
       "      <td>2143.273309</td>\n",
       "      <td>649.667402</td>\n",
       "      <td>1493.605907</td>\n",
       "      <td>9330.140979</td>\n",
       "    </tr>\n",
       "    <tr>\n",
       "      <th>6</th>\n",
       "      <td>2024-02-08</td>\n",
       "      <td>2024-02-08</td>\n",
       "      <td>7</td>\n",
       "      <td>2143.273309</td>\n",
       "      <td>570.888537</td>\n",
       "      <td>1572.384772</td>\n",
       "      <td>7678.977343</td>\n",
       "    </tr>\n",
       "    <tr>\n",
       "      <th>7</th>\n",
       "      <td>2024-03-08</td>\n",
       "      <td>2024-03-08</td>\n",
       "      <td>8</td>\n",
       "      <td>2143.273309</td>\n",
       "      <td>455.711113</td>\n",
       "      <td>1687.562196</td>\n",
       "      <td>5876.237722</td>\n",
       "    </tr>\n",
       "    <tr>\n",
       "      <th>8</th>\n",
       "      <td>2024-04-08</td>\n",
       "      <td>2024-04-08</td>\n",
       "      <td>9</td>\n",
       "      <td>2143.273309</td>\n",
       "      <td>398.945644</td>\n",
       "      <td>1744.327665</td>\n",
       "      <td>4075.144588</td>\n",
       "    </tr>\n",
       "    <tr>\n",
       "      <th>9</th>\n",
       "      <td>2024-05-08</td>\n",
       "      <td>2024-05-08</td>\n",
       "      <td>10</td>\n",
       "      <td>2143.273309</td>\n",
       "      <td>296.793085</td>\n",
       "      <td>1846.480224</td>\n",
       "      <td>2126.511805</td>\n",
       "    </tr>\n",
       "    <tr>\n",
       "      <th>10</th>\n",
       "      <td>2024-06-08</td>\n",
       "      <td>2024-06-10</td>\n",
       "      <td>11</td>\n",
       "      <td>2143.273309</td>\n",
       "      <td>209.551797</td>\n",
       "      <td>1933.721512</td>\n",
       "      <td>105.549005</td>\n",
       "    </tr>\n",
       "    <tr>\n",
       "      <th>11</th>\n",
       "      <td>2024-07-08</td>\n",
       "      <td>2024-07-08</td>\n",
       "      <td>12</td>\n",
       "      <td>2143.273309</td>\n",
       "      <td>104.002796</td>\n",
       "      <td>2039.270513</td>\n",
       "      <td>0.000000</td>\n",
       "    </tr>\n",
       "  </tbody>\n",
       "</table>\n",
       "</div>"
      ],
      "text/plain": [
       "   installDates payDayDates  number  amortization_amount     interest  \\\n",
       "0    2023-08-08  2023-08-08       1          2143.273309  2143.273309   \n",
       "1    2023-09-08  2023-09-08       2          2143.273309  1555.017986   \n",
       "2    2023-10-08  2023-10-09       3          2143.273309   836.998979   \n",
       "3    2023-11-08  2023-11-08       4          2143.273309   796.724088   \n",
       "4    2023-12-08  2023-12-08       5          2143.273309   701.704977   \n",
       "5    2024-01-08  2024-01-08       6          2143.273309   649.667402   \n",
       "6    2024-02-08  2024-02-08       7          2143.273309   570.888537   \n",
       "7    2024-03-08  2024-03-08       8          2143.273309   455.711113   \n",
       "8    2024-04-08  2024-04-08       9          2143.273309   398.945644   \n",
       "9    2024-05-08  2024-05-08      10          2143.273309   296.793085   \n",
       "10   2024-06-08  2024-06-10      11          2143.273309   209.551797   \n",
       "11   2024-07-08  2024-07-08      12          2143.273309   104.002796   \n",
       "\n",
       "      principal       balance  \n",
       "0      0.000000  17625.383410  \n",
       "1    588.255323  15823.489355  \n",
       "2   1306.274330  13799.196016  \n",
       "3   1346.549221  12412.371905  \n",
       "4   1441.568332  10875.784463  \n",
       "5   1493.605907   9330.140979  \n",
       "6   1572.384772   7678.977343  \n",
       "7   1687.562196   5876.237722  \n",
       "8   1744.327665   4075.144588  \n",
       "9   1846.480224   2126.511805  \n",
       "10  1933.721512    105.549005  \n",
       "11  2039.270513      0.000000  "
      ]
     },
     "execution_count": 22,
     "metadata": {},
     "output_type": "execute_result"
    }
   ],
   "source": [
    "installments"
   ]
  },
  {
   "cell_type": "code",
   "execution_count": 23,
   "metadata": {},
   "outputs": [
    {
     "data": {
      "text/plain": [
       "0     08/08/2023\n",
       "1     09/08/2023\n",
       "2     10/09/2023\n",
       "3     11/08/2023\n",
       "4     12/08/2023\n",
       "5     01/08/2024\n",
       "6     02/08/2024\n",
       "7     03/08/2024\n",
       "8     04/08/2024\n",
       "9     05/08/2024\n",
       "10    06/10/2024\n",
       "11    07/08/2024\n",
       "Name: payDayDates, dtype: object"
      ]
     },
     "execution_count": 23,
     "metadata": {},
     "output_type": "execute_result"
    }
   ],
   "source": [
    "installments['payDayDates'].astype('datetime64').dt.strftime('%m/%d/%Y')"
   ]
  },
  {
   "cell_type": "code",
   "execution_count": 24,
   "metadata": {},
   "outputs": [
    {
     "data": {
      "text/plain": [
       "([0.0,\n",
       "  5.184378000000001,\n",
       "  13.111824,\n",
       "  15.225141,\n",
       "  18.072586,\n",
       "  20.623176,\n",
       "  23.712974999999997,\n",
       "  27.453632000000002,\n",
       "  30.598575,\n",
       "  34.658955,\n",
       "  36.29151,\n",
       "  38.2806],\n",
       " 263.213352)"
      ]
     },
     "execution_count": 24,
     "metadata": {},
     "output_type": "execute_result"
    }
   ],
   "source": [
    "iof_interest_rate=0.000041\n",
    "iof_max_rate=0.015\n",
    "iof_adicional=0.0038\n",
    "accInterest = (installments['amortization_amount']-installments['interest']).apply(np.ceil)\n",
    "\n",
    "days = [91,122,152,183,213,244,275,304,335,365,396,426]\n",
    "\n",
    "iofs = []\n",
    "for i in range(len(days)):\n",
    "    if days[i] < 365:\n",
    "        iofs.append(accInterest[i]*iof_interest_rate*days[i]+accInterest[i]*iof_adicional)\n",
    "    else:\n",
    "        iofs.append(accInterest[i]*iof_interest_rate*365+accInterest[i]*iof_adicional)\n",
    "iofs,np.sum(iofs)"
   ]
  },
  {
   "cell_type": "code",
   "execution_count": 25,
   "metadata": {},
   "outputs": [],
   "source": [
    "co = CreditOperation()"
   ]
  },
  {
   "cell_type": "code",
   "execution_count": 26,
   "metadata": {},
   "outputs": [],
   "source": [
    "days_each_month, installDates, payDay = co.returnDaysEachMonth(period, datetime.datetime.strptime('20-12-2020', '%d-%m-%Y'), datetime.datetime.strptime('20-11-2020', '%d-%m-%Y'))"
   ]
  },
  {
   "cell_type": "code",
   "execution_count": 27,
   "metadata": {},
   "outputs": [
    {
     "name": "stdout",
     "output_type": "stream",
     "text": [
      "[91, 31, 30, 31, 30, 31, 31, 29, 31, 30, 31, 30, 31, 31, 30, 31, 30, 31, 31, 28, 31, 30, 31, 30]\n",
      "[91, 31, 30, 31, 30, 31, 31, 29, 31, 30, 31, 30, 31, 31, 30, 31, 30, 31, 31, 28, 31, 30, 31, 30]\n"
     ]
    },
    {
     "data": {
      "text/plain": [
       "({'installDates': {0: datetime.date(2023, 8, 8),\n",
       "   1: datetime.date(2023, 9, 8),\n",
       "   2: datetime.date(2023, 10, 8),\n",
       "   3: datetime.date(2023, 11, 8),\n",
       "   4: datetime.date(2023, 12, 8),\n",
       "   5: datetime.date(2024, 1, 8),\n",
       "   6: datetime.date(2024, 2, 8),\n",
       "   7: datetime.date(2024, 3, 8),\n",
       "   8: datetime.date(2024, 4, 8),\n",
       "   9: datetime.date(2024, 5, 8),\n",
       "   10: datetime.date(2024, 6, 8),\n",
       "   11: datetime.date(2024, 7, 8),\n",
       "   12: datetime.date(2024, 8, 8),\n",
       "   13: datetime.date(2024, 9, 8),\n",
       "   14: datetime.date(2024, 10, 8),\n",
       "   15: datetime.date(2024, 11, 8),\n",
       "   16: datetime.date(2024, 12, 8),\n",
       "   17: datetime.date(2025, 1, 8),\n",
       "   18: datetime.date(2025, 2, 8),\n",
       "   19: datetime.date(2025, 3, 8),\n",
       "   20: datetime.date(2025, 4, 8),\n",
       "   21: datetime.date(2025, 5, 8),\n",
       "   22: datetime.date(2025, 6, 8),\n",
       "   23: datetime.date(2025, 7, 8)},\n",
       "  'payDayDates': {0: datetime.date(2023, 8, 8),\n",
       "   1: datetime.date(2023, 9, 8),\n",
       "   2: datetime.date(2023, 10, 9),\n",
       "   3: datetime.date(2023, 11, 8),\n",
       "   4: datetime.date(2023, 12, 8),\n",
       "   5: datetime.date(2024, 1, 8),\n",
       "   6: datetime.date(2024, 2, 8),\n",
       "   7: datetime.date(2024, 3, 8),\n",
       "   8: datetime.date(2024, 4, 8),\n",
       "   9: datetime.date(2024, 5, 8),\n",
       "   10: datetime.date(2024, 6, 10),\n",
       "   11: datetime.date(2024, 7, 8),\n",
       "   12: datetime.date(2024, 8, 8),\n",
       "   13: datetime.date(2024, 9, 9),\n",
       "   14: datetime.date(2024, 10, 8),\n",
       "   15: datetime.date(2024, 11, 8),\n",
       "   16: datetime.date(2024, 12, 9),\n",
       "   17: datetime.date(2025, 1, 8),\n",
       "   18: datetime.date(2025, 2, 10),\n",
       "   19: datetime.date(2025, 3, 10),\n",
       "   20: datetime.date(2025, 4, 8),\n",
       "   21: datetime.date(2025, 5, 8),\n",
       "   22: datetime.date(2025, 6, 9),\n",
       "   23: datetime.date(2025, 7, 8)},\n",
       "  'number': {0: 1,\n",
       "   1: 2,\n",
       "   2: 3,\n",
       "   3: 4,\n",
       "   4: 5,\n",
       "   5: 6,\n",
       "   6: 7,\n",
       "   7: 8,\n",
       "   8: 9,\n",
       "   9: 10,\n",
       "   10: 11,\n",
       "   11: 12,\n",
       "   12: 13,\n",
       "   13: 14,\n",
       "   14: 15,\n",
       "   15: 16,\n",
       "   16: 17,\n",
       "   17: 18,\n",
       "   18: 19,\n",
       "   19: 20,\n",
       "   20: 21,\n",
       "   21: 22,\n",
       "   22: 23,\n",
       "   23: 24},\n",
       "  'amortization_amount': {0: 1170.009218,\n",
       "   1: 1170.009218,\n",
       "   2: 1170.009218,\n",
       "   3: 1170.009218,\n",
       "   4: 1170.009218,\n",
       "   5: 1170.009218,\n",
       "   6: 1170.009218,\n",
       "   7: 1170.009218,\n",
       "   8: 1170.009218,\n",
       "   9: 1170.009218,\n",
       "   10: 1170.009218,\n",
       "   11: 1170.009218,\n",
       "   12: 1170.009218,\n",
       "   13: 1170.009218,\n",
       "   14: 1170.009218,\n",
       "   15: 1170.009218,\n",
       "   16: 1170.009218,\n",
       "   17: 1170.009218,\n",
       "   18: 1170.009218,\n",
       "   19: 1170.009218,\n",
       "   20: 1170.009218,\n",
       "   21: 1170.009218,\n",
       "   22: 1170.009218,\n",
       "   23: 1170.009218},\n",
       "  'interest': {0: 1170.009218,\n",
       "   1: 1527.911653,\n",
       "   2: 650.284502,\n",
       "   3: 652.013163,\n",
       "   4: 610.954885,\n",
       "   5: 609.805955,\n",
       "   6: 587.852836,\n",
       "   7: 527.926178,\n",
       "   8: 539.877617,\n",
       "   9: 498.25436,\n",
       "   10: 488.859583,\n",
       "   11: 446.97928,\n",
       "   12: 433.83291,\n",
       "   13: 404.983799,\n",
       "   14: 362.6809,\n",
       "   15: 343.366755,\n",
       "   16: 300.753407,\n",
       "   17: 276.908275,\n",
       "   18: 241.909636,\n",
       "   19: 185.30148,\n",
       "   20: 166.950973,\n",
       "   21: 123.448782,\n",
       "   22: 86.630978,\n",
       "   23: 42.724106},\n",
       "  'principal': {0: 0.0,\n",
       "   1: -357.902435,\n",
       "   2: 519.724716,\n",
       "   3: 517.996055,\n",
       "   4: 559.054333,\n",
       "   5: 560.203263,\n",
       "   6: 582.156382,\n",
       "   7: 642.08304,\n",
       "   8: 630.131601,\n",
       "   9: 671.754858,\n",
       "   10: 681.149635,\n",
       "   11: 723.029938,\n",
       "   12: 736.176308,\n",
       "   13: 765.025419,\n",
       "   14: 807.328318,\n",
       "   15: 826.642463,\n",
       "   16: 869.255811,\n",
       "   17: 893.100943,\n",
       "   18: 928.099582,\n",
       "   19: 984.707738,\n",
       "   20: 1003.058245,\n",
       "   21: 1046.560436,\n",
       "   22: 1083.37824,\n",
       "   23: 1127.285112},\n",
       "  'balance': {0: 17636.766036,\n",
       "   1: 17515.80487,\n",
       "   2: 16118.453004,\n",
       "   3: 15602.18561,\n",
       "   4: 15002.072999,\n",
       "   5: 14440.720806,\n",
       "   6: 13836.611304,\n",
       "   7: 13134.601607,\n",
       "   8: 12516.421444,\n",
       "   9: 11803.04333,\n",
       "   10: 11112.498919,\n",
       "   11: 10347.588678,\n",
       "   12: 9598.266,\n",
       "   13: 8804.39147,\n",
       "   14: 7954.760253,\n",
       "   15: 7108.803644,\n",
       "   16: 6196.934486,\n",
       "   17: 5279.98841,\n",
       "   18: 4316.89019,\n",
       "   19: 3275.574295,\n",
       "   20: 2254.165544,\n",
       "   21: 1164.102916,\n",
       "   22: 43.906872,\n",
       "   23: 0.0}},\n",
       " 0.041858,\n",
       " 0.635695,\n",
       " 527.908159,\n",
       " 1170.009218)"
      ]
     },
     "execution_count": 27,
     "metadata": {},
     "output_type": "execute_result"
    }
   ],
   "source": [
    "co.calculate_amortization_schedule_with_taxes(16800, 16000, 0.0379, period=24, iof=False, rPaymentDate=rPaymentDate, rDisbursementDate=rDisbursementDate)"
   ]
  },
  {
   "cell_type": "markdown",
   "metadata": {},
   "source": [
    "# IRR"
   ]
  },
  {
   "cell_type": "code",
   "execution_count": 271,
   "metadata": {},
   "outputs": [
    {
     "data": {
      "text/plain": [
       "('cet 4.7253%', 'Annual Cet 74.0274%')"
      ]
     },
     "execution_count": 271,
     "metadata": {},
     "output_type": "execute_result"
    }
   ],
   "source": [
    "initial_amount = 65000\n",
    "array_irr = list(installments['amortization_amount'].values)\n",
    "array_irr.insert(0,-initial_amount)\n",
    "\n",
    "cet = np.irr(array_irr)\n",
    "annualCet = (1+cet)**12-1\n",
    "\n",
    "'cet ' + str(np.round(cet*100,4))+'%','Annual Cet ' + str(np.round(annualCet*100,4))+'%'"
   ]
  },
  {
   "cell_type": "markdown",
   "metadata": {},
   "source": [
    "# XIRR"
   ]
  },
  {
   "cell_type": "code",
   "execution_count": 272,
   "metadata": {},
   "outputs": [],
   "source": [
    "def xirr(transactions):\n",
    "    years = [(ta[0] - transactions[0][0]).days / 365.0 for ta in transactions]\n",
    "    residual = 1\n",
    "    step = 0.05\n",
    "    guess = 0.05\n",
    "    epsilon = 0.0001\n",
    "    limit = 10000\n",
    "    while abs(residual) > epsilon and limit > 0:\n",
    "        limit -= 1\n",
    "        residual = 0.0\n",
    "        for i, ta in enumerate(transactions):\n",
    "            residual += ta[1] / pow(guess, years[i])\n",
    "        if abs(residual) > epsilon:\n",
    "            if residual > 0:\n",
    "                guess += step\n",
    "            else:\n",
    "                guess -= step\n",
    "                step /= 2.0\n",
    "    return guess-1"
   ]
  },
  {
   "cell_type": "code",
   "execution_count": 273,
   "metadata": {},
   "outputs": [],
   "source": [
    "array_irr = [ (i[1], i[0]) for i in installments[['amortization_amount','installDates']].values ]"
   ]
  },
  {
   "cell_type": "code",
   "execution_count": 274,
   "metadata": {},
   "outputs": [],
   "source": [
    "array_irr.insert(0,(datetime.date(rDisbursementDate.year, rDisbursementDate.month, rDisbursementDate.day+1),-65000))"
   ]
  },
  {
   "cell_type": "code",
   "execution_count": 275,
   "metadata": {},
   "outputs": [
    {
     "data": {
      "text/plain": [
       "'Annual Cet 68.2616%'"
      ]
     },
     "execution_count": 275,
     "metadata": {},
     "output_type": "execute_result"
    }
   ],
   "source": [
    "'Annual Cet ' + str(np.round(xirr(array_irr)*100,4))+'%'"
   ]
  },
  {
   "cell_type": "code",
   "execution_count": 276,
   "metadata": {},
   "outputs": [],
   "source": [
    "def xirr(df, guess=0.05, date_column='date', amount_column='amount'):\n",
    "    '''Calculates XIRR from a series of cashflows. \n",
    "       Needs a dataframe with columns date and amount, customisable through parameters. \n",
    "       Requires Pandas, NumPy libraries'''\n",
    "\n",
    "    df = df.sort_values(by=date_column).reset_index(drop=True)\n",
    "\n",
    "    amounts = df[amount_column].values\n",
    "    dates = df[date_column].values\n",
    "\n",
    "    years = np.array(dates-dates[0], dtype='timedelta64[D]').astype(int)/365\n",
    "\n",
    "    step = 0.05\n",
    "    epsilon = 0.0001\n",
    "    limit = 1000\n",
    "    residual = 1\n",
    "\n",
    "    #Test for direction of cashflows\n",
    "    disc_val_1 = np.sum(amounts/((1+guess)**years))\n",
    "    disc_val_2 = np.sum(amounts/((1.05+guess)**years))\n",
    "    mul = 1 if disc_val_2 < disc_val_1 else -1\n",
    "\n",
    "    #Calculate XIRR    \n",
    "    for i in range(limit):\n",
    "        prev_residual = residual\n",
    "        residual = np.sum(amounts/((1+guess)**years))\n",
    "        if abs(residual) > epsilon:\n",
    "            if np.sign(residual) != np.sign(prev_residual):\n",
    "                step /= 2\n",
    "            guess = guess + step * np.sign(residual) * mul   \n",
    "        else:\n",
    "            return guess"
   ]
  },
  {
   "cell_type": "code",
   "execution_count": 277,
   "metadata": {},
   "outputs": [
    {
     "data": {
      "text/plain": [
       "'Annual Cet 68.2616%'"
      ]
     },
     "execution_count": 277,
     "metadata": {},
     "output_type": "execute_result"
    }
   ],
   "source": [
    "'Annual Cet ' + str(np.round(xirr(pd.DataFrame(array_irr),0.04,0,1)*100,4))+'%'"
   ]
  },
  {
   "cell_type": "code",
   "execution_count": 236,
   "metadata": {},
   "outputs": [],
   "source": [
    "from scipy import optimize"
   ]
  },
  {
   "cell_type": "code",
   "execution_count": 237,
   "metadata": {},
   "outputs": [],
   "source": [
    "def xnpv(rate, values, dates):\n",
    "    '''Equivalent of Excel's XNPV function.\n",
    "\n",
    "    >>> from datetime import date\n",
    "    >>> dates = [date(2010, 12, 29), date(2012, 1, 25), date(2012, 3, 8)]\n",
    "    >>> values = [-10000, 20, 10100]\n",
    "    >>> xnpv(0.1, values, dates)\n",
    "    -966.4345...\n",
    "    '''\n",
    "    if rate <= -1.0:\n",
    "        return float('inf')\n",
    "    d0 = dates[0]    # or min(dates)\n",
    "    return sum([ vi / (1.0 + rate)**((di - d0).days / 365.0) for vi, di in zip(values, dates)])\n",
    "\n",
    "def xirr(values, dates):\n",
    "    '''Equivalent of Excel's XIRR function.\n",
    "\n",
    "    >>> from datetime import date\n",
    "    >>> dates = [date(2010, 12, 29), date(2012, 1, 25), date(2012, 3, 8)]\n",
    "    >>> values = [-10000, 20, 10100]\n",
    "    >>> xirr(values, dates)\n",
    "    0.0100612...\n",
    "    '''\n",
    "    try:\n",
    "        return scipy.optimize.newton(lambda r: xnpv(r, values, dates), 0.0)\n",
    "    except RuntimeError:    # Failed to converge?\n",
    "        return scipy.optimize.brentq(lambda r: xnpv(r, values, dates), -1.0, 1e10)"
   ]
  },
  {
   "cell_type": "code",
   "execution_count": 238,
   "metadata": {},
   "outputs": [],
   "source": [
    "values = [ i[0] for i in installments[['amortization_amount','installDates']].values ]\n",
    "dates = [ i[1] for i in installments[['amortization_amount','installDates']].values ]\n",
    "values.insert(0,-65000)\n",
    "dates.insert(0,datetime.date(rDisbursementDate.year, rDisbursementDate.month, rDisbursementDate.day))"
   ]
  },
  {
   "cell_type": "code",
   "execution_count": 239,
   "metadata": {},
   "outputs": [
    {
     "data": {
      "text/plain": [
       "0.6826159706073737"
      ]
     },
     "execution_count": 239,
     "metadata": {},
     "output_type": "execute_result"
    }
   ],
   "source": [
    "xirr(values, dates)"
   ]
  },
  {
   "cell_type": "code",
   "execution_count": 2,
   "metadata": {},
   "outputs": [
    {
     "data": {
      "text/plain": [
       "0.04725264567610643"
      ]
     },
     "execution_count": 2,
     "metadata": {},
     "output_type": "execute_result"
    }
   ],
   "source": [
    "((0.740273849822884+1)**(1/12))-1"
   ]
  },
  {
   "cell_type": "code",
   "execution_count": null,
   "metadata": {},
   "outputs": [],
   "source": []
  }
 ],
 "metadata": {
  "kernelspec": {
   "display_name": "Python 3",
   "language": "python",
   "name": "python3"
  },
  "language_info": {
   "codemirror_mode": {
    "name": "ipython",
    "version": 3
   },
   "file_extension": ".py",
   "mimetype": "text/x-python",
   "name": "python",
   "nbconvert_exporter": "python",
   "pygments_lexer": "ipython3",
   "version": "3.9.7"
  }
 },
 "nbformat": 4,
 "nbformat_minor": 4
}
