{
 "cells": [
  {
   "cell_type": "code",
   "execution_count": 1,
   "metadata": {},
   "outputs": [],
   "source": [
    "from installFunctions import *\n",
    "import pandas as pd\n",
    "import numpy as np"
   ]
  },
  {
   "cell_type": "code",
   "execution_count": 2,
   "metadata": {},
   "outputs": [],
   "source": [
    "from datetime import date"
   ]
  },
  {
   "cell_type": "code",
   "execution_count": 3,
   "metadata": {},
   "outputs": [],
   "source": [
    "import holidays"
   ]
  },
  {
   "cell_type": "code",
   "execution_count": 4,
   "metadata": {},
   "outputs": [],
   "source": [
    "gyra_fees = pd.read_csv('./install_csv/gyra_fees.csv')"
   ]
  },
  {
   "cell_type": "code",
   "execution_count": 5,
   "metadata": {},
   "outputs": [],
   "source": [
    "import requests"
   ]
  },
  {
   "cell_type": "code",
   "execution_count": 6,
   "metadata": {},
   "outputs": [],
   "source": [
    "import werkzeug"
   ]
  },
  {
   "cell_type": "code",
   "execution_count": 7,
   "metadata": {},
   "outputs": [],
   "source": [
    "rPaymentDate = datetime.datetime.strptime('20-12-2020', '%d-%m-%Y')\n",
    "rDisbursementDate = datetime.datetime.strptime('29-10-2020', '%d-%m-%Y')\n",
    "period = 24"
   ]
  },
  {
   "cell_type": "code",
   "execution_count": 8,
   "metadata": {},
   "outputs": [],
   "source": [
    "days_each_month, installDates, payDay = returnDaysEachMonth(period, rPaymentDate, rDisbursementDate)"
   ]
  },
  {
   "cell_type": "code",
   "execution_count": 55,
   "metadata": {},
   "outputs": [],
   "source": [
    "days_each_month, installDates, payDay = returnDaysEachMonth(period, rPaymentDate, rDisbursementDate)\n",
    "    \n",
    "amortization_amount = calculate_amortization_amount(16800.0, 0.0379, installDates, rDisbursementDate)"
   ]
  },
  {
   "cell_type": "code",
   "execution_count": 56,
   "metadata": {},
   "outputs": [
    {
     "data": {
      "text/plain": [
       "1113.426112"
      ]
     },
     "execution_count": 56,
     "metadata": {},
     "output_type": "execute_result"
    }
   ],
   "source": [
    "amortization_amount"
   ]
  },
  {
   "cell_type": "code",
   "execution_count": 62,
   "metadata": {},
   "outputs": [
    {
     "name": "stdout",
     "output_type": "stream",
     "text": [
      "0 1.7333333333333334\n",
      "0.9375557736181476 2.7666666666666666\n",
      "1.8397563154838232 3.8\n",
      "2.7079348715195035 4.733333333333333\n",
      "3.54648798689736 5.766666666666667\n",
      "4.35341926113767 6.766666666666667\n",
      "5.130884599070333 7.8\n",
      "5.879031716182867 8.8\n",
      "6.599859461738831 9.833333333333334\n",
      "7.293504790296398 10.866666666666667\n",
      "7.960992750902903 11.866666666666667\n",
      "8.604106693100132 12.9\n",
      "9.222968806116167 13.9\n",
      "9.819232524216211 14.933333333333334\n",
      "10.39301113526213 15.966666666666667\n",
      "10.945152552725578 16.9\n",
      "11.478452877323885 17.933333333333334\n",
      "11.991642444674037 18.933333333333334\n",
      "12.486092360224815 19.966666666666665\n",
      "12.961896567598867 20.966666666666665\n",
      "13.420326288548912 22.0\n",
      "13.86146862299622 23.033333333333335\n",
      "14.285975478350887 24.033333333333335\n",
      "14.694981023542779 25.066666666666666\n"
     ]
    }
   ],
   "source": [
    "days_each_months = []\n",
    "soma = 0\n",
    "for i in installDates:\n",
    "\n",
    "    days = ( i - ( date(rDisbursementDate.year, rDisbursementDate.month, rDisbursementDate.day) ) ).days\n",
    "\n",
    "    days_each_months.append(days)\n",
    "\n",
    "    print(soma,(days)/30.0)\n",
    "    soma = soma + ( 1/( (1+0.0379)**( (days)/30.0) ) )"
   ]
  },
  {
   "cell_type": "code",
   "execution_count": 63,
   "metadata": {},
   "outputs": [
    {
     "data": {
      "text/plain": [
       "1.5626659294986456"
      ]
     },
     "execution_count": 63,
     "metadata": {},
     "output_type": "execute_result"
    }
   ],
   "source": [
    "(1+0.0379)**12"
   ]
  },
  {
   "cell_type": "code",
   "execution_count": 61,
   "metadata": {},
   "outputs": [
    {
     "data": {
      "text/plain": [
       "26252.787615577246"
      ]
     },
     "execution_count": 61,
     "metadata": {},
     "output_type": "execute_result"
    }
   ],
   "source": [
    "16800.0*((1+0.0379)**12)"
   ]
  },
  {
   "cell_type": "code",
   "execution_count": 65,
   "metadata": {},
   "outputs": [
    {
     "data": {
      "text/plain": [
       "1078.2964239672165"
      ]
     },
     "execution_count": 65,
     "metadata": {},
     "output_type": "execute_result"
    }
   ],
   "source": [
    "16800*((0.0379*(1+0.0379)**24)/((1+0.0379)**24-1))"
   ]
  },
  {
   "cell_type": "code",
   "execution_count": 59,
   "metadata": {},
   "outputs": [
    {
     "data": {
      "text/plain": [
       "[52,\n",
       " 83,\n",
       " 114,\n",
       " 142,\n",
       " 173,\n",
       " 203,\n",
       " 234,\n",
       " 264,\n",
       " 295,\n",
       " 326,\n",
       " 356,\n",
       " 387,\n",
       " 417,\n",
       " 448,\n",
       " 479,\n",
       " 507,\n",
       " 538,\n",
       " 568,\n",
       " 599,\n",
       " 629,\n",
       " 660,\n",
       " 691,\n",
       " 721,\n",
       " 752]"
      ]
     },
     "execution_count": 59,
     "metadata": {},
     "output_type": "execute_result"
    }
   ],
   "source": [
    "days_each_months"
   ]
  },
  {
   "cell_type": "code",
   "execution_count": 12,
   "metadata": {},
   "outputs": [],
   "source": [
    "installments, amortization_amount = amortization_schedule(16800.0, 0.0379, period, rPaymentDate, rDisbursementDate)\n",
    "installments = pd.DataFrame(installments)"
   ]
  },
  {
   "cell_type": "code",
   "execution_count": 13,
   "metadata": {},
   "outputs": [
    {
     "data": {
      "text/plain": [
       "1113.426112"
      ]
     },
     "execution_count": 13,
     "metadata": {},
     "output_type": "execute_result"
    }
   ],
   "source": [
    "amortization_amount"
   ]
  },
  {
   "cell_type": "code",
   "execution_count": 14,
   "metadata": {},
   "outputs": [
    {
     "data": {
      "text/plain": [
       "752"
      ]
     },
     "execution_count": 14,
     "metadata": {},
     "output_type": "execute_result"
    }
   ],
   "source": [
    "np.sum(days_each_month)"
   ]
  },
  {
   "cell_type": "code",
   "execution_count": 24,
   "metadata": {},
   "outputs": [
    {
     "data": {
      "text/plain": [
       "1.3195291240097708"
      ]
     },
     "execution_count": 24,
     "metadata": {},
     "output_type": "execute_result"
    }
   ],
   "source": [
    "(1+np.abs(-1+1/np.power(amortization_amount,1/np.sum(days_each_month))))**(30)"
   ]
  },
  {
   "cell_type": "code",
   "execution_count": 25,
   "metadata": {},
   "outputs": [
    {
     "data": {
      "text/plain": [
       "752"
      ]
     },
     "execution_count": 25,
     "metadata": {},
     "output_type": "execute_result"
    }
   ],
   "source": [
    "np.sum(days_each_month)"
   ]
  },
  {
   "cell_type": "code",
   "execution_count": 27,
   "metadata": {},
   "outputs": [],
   "source": [
    "principal = 16800.0"
   ]
  },
  {
   "cell_type": "code",
   "execution_count": 66,
   "metadata": {},
   "outputs": [],
   "source": [
    "from scipy.optimize import root"
   ]
  },
  {
   "cell_type": "code",
   "execution_count": 105,
   "metadata": {},
   "outputs": [
    {
     "data": {
      "text/plain": [
       "-1.9622505840264837"
      ]
     },
     "execution_count": 105,
     "metadata": {},
     "output_type": "execute_result"
    }
   ],
   "source": [
    "0.0379 = (1+tj)**(30)-1"
   ]
  },
  {
   "cell_type": "code",
   "execution_count": 109,
   "metadata": {},
   "outputs": [
    {
     "data": {
      "text/plain": [
       "0.0012407504610527642"
      ]
     },
     "execution_count": 109,
     "metadata": {},
     "output_type": "execute_result"
    }
   ],
   "source": [
    "np.power(0.0379+1,1/30)-1"
   ]
  },
  {
   "cell_type": "code",
   "execution_count": 143,
   "metadata": {},
   "outputs": [],
   "source": [
    "def find_nearest(array, value):\n",
    "    array = np.asarray(array)\n",
    "    idx = (np.abs(array - value)).argmin()\n",
    "    return idx,array[idx]"
   ]
  },
  {
   "cell_type": "code",
   "execution_count": 192,
   "metadata": {},
   "outputs": [],
   "source": [
    "def func(A,P,M,tj):\n",
    "    return A - P*( (tj*(np.power(1+tj,M))) / ( np.power(1+tj,M) - 1) )\n",
    "\n",
    "def func2(tj,*data):\n",
    "    A,P,M = data\n",
    "    return A - P*( (tj*(np.power(1+tj,M))) / ( np.power(1+tj,M) - 1) )"
   ]
  },
  {
   "cell_type": "code",
   "execution_count": 225,
   "metadata": {},
   "outputs": [
    {
     "data": {
      "image/png": "[encoded data removed]",
      "text/plain": [
       "<Figure size 432x288 with 1 Axes>"
      ]
     },
     "metadata": {
      "needs_background": "light"
     },
     "output_type": "display_data"
    },
    {
     "name": "stdout",
     "output_type": "stream",
     "text": [
      "1113.426112 16800.0 25.066666666666666\n",
      "The solution is i = -0.156851\n",
      "at which the value of the expression is 0.000000\n"
     ]
    }
   ],
   "source": [
    "from scipy.optimize import fsolve\n",
    "import matplotlib.pyplot as plt\n",
    "\n",
    "# Define the expression whose roots we want to find\n",
    "\n",
    "A = amortization_amount\n",
    "P = principal\n",
    "M = np.sum(days_each_month)/30\n",
    "#M = 25\n",
    "\n",
    "# Plot it\n",
    "\n",
    "l = np.linspace(0.01, 0.1, 100000)\n",
    "\n",
    "plt.plot(l, func(A,P,M,l))\n",
    "plt.xlabel(\"i\")\n",
    "plt.ylabel(\"expression value\")\n",
    "plt.grid()\n",
    "plt.show()\n",
    "\n",
    "# Use the numerical solver to find the roots\n",
    "\n",
    "i_initial_guess = 0.01\n",
    "i_solution = fsolve(func2, i_initial_guess,args=(A,P,M))\n",
    "\n",
    "print(A,P,M)\n",
    "print(\"The solution is i = %f\" % i_solution)\n",
    "print(\"at which the value of the expression is %f\" % func2(i_solution,*(A,P,M)))"
   ]
  },
  {
   "cell_type": "code",
   "execution_count": 230,
   "metadata": {},
   "outputs": [],
   "source": [
    "def func3(interest_rate, *data):\n",
    "    \n",
    "    principal, amortization, installDates, rDisbursementDate = data\n",
    "    \n",
    "    soma = 0\n",
    "\n",
    "    for i in installDates:\n",
    "\n",
    "        days = ( i - ( date(rDisbursementDate.year, rDisbursementDate.month, rDisbursementDate.day) ) ).days\n",
    "\n",
    "        soma = soma + ( 1/( (1+interest_rate)**( (days)/30.0) ) )\n",
    "    \n",
    "    return np.round(principal/soma,6) - amortization"
   ]
  },
  {
   "cell_type": "code",
   "execution_count": 235,
   "metadata": {},
   "outputs": [
    {
     "data": {
      "image/png": "[encoded data removed]",
      "text/plain": [
       "<Figure size 432x288 with 1 Axes>"
      ]
     },
     "metadata": {
      "needs_background": "light"
     },
     "output_type": "display_data"
    },
    {
     "name": "stdout",
     "output_type": "stream",
     "text": [
      "50 16800.0 25.066666666666666\n",
      "The solution is i = -0.144892\n",
      "at which the value of the expression is 0.000000\n"
     ]
    }
   ],
   "source": [
    "A = 50\n",
    "P = principal\n",
    "I = installDates\n",
    "D = rDisbursementDate\n",
    "#M = 25\n",
    "\n",
    "# Plot it\n",
    "\n",
    "l = np.linspace(0.01, 0.1, 100000)\n",
    "\n",
    "plt.plot(l, func3(l,*(P,A,I,D)))\n",
    "plt.xlabel(\"i\")\n",
    "plt.ylabel(\"expression value\")\n",
    "plt.grid()\n",
    "plt.show()\n",
    "\n",
    "# Use the numerical solver to find the roots\n",
    "\n",
    "i_initial_guess = 0.01\n",
    "i_solution = fsolve(func3, i_initial_guess,args=(P,A,I,D))\n",
    "\n",
    "print(A,P,M)\n",
    "print(\"The solution is i = %f\" % i_solution)\n",
    "print(\"at which the value of the expression is %f\" % func3(i_solution,*(P,A,I,D)))"
   ]
  },
  {
   "cell_type": "code",
   "execution_count": 200,
   "metadata": {},
   "outputs": [],
   "source": [
    "from scipy import optimize"
   ]
  },
  {
   "cell_type": "code",
   "execution_count": 224,
   "metadata": {},
   "outputs": [
    {
     "data": {
      "text/plain": [
       "0.01"
      ]
     },
     "execution_count": 224,
     "metadata": {},
     "output_type": "execute_result"
    }
   ],
   "source": [
    "l = np.linspace(0.01, 0.1, 1000,dtype=np.float64)\n",
    "idx, _ = find_nearest(func(A,P,M,l), 0)\n",
    "l[idx]"
   ]
  },
  {
   "cell_type": "code",
   "execution_count": 205,
   "metadata": {},
   "outputs": [
    {
     "data": {
      "text/plain": [
       "0.0014858648586485866"
      ]
     },
     "execution_count": 205,
     "metadata": {},
     "output_type": "execute_result"
    }
   ],
   "source": [
    "l[62146]"
   ]
  },
  {
   "cell_type": "code",
   "execution_count": 161,
   "metadata": {},
   "outputs": [
    {
     "data": {
      "text/plain": [
       "(1113.426112, 16800.0, 752)"
      ]
     },
     "execution_count": 161,
     "metadata": {},
     "output_type": "execute_result"
    }
   ],
   "source": [
    "A,P,M"
   ]
  },
  {
   "cell_type": "code",
   "execution_count": 162,
   "metadata": {},
   "outputs": [
    {
     "data": {
      "text/plain": [
       "1081.6320205949455"
      ]
     },
     "execution_count": 162,
     "metadata": {},
     "output_type": "execute_result"
    }
   ],
   "source": [
    "func(A,P,M,0.001)"
   ]
  },
  {
   "cell_type": "code",
   "execution_count": 129,
   "metadata": {},
   "outputs": [
    {
     "data": {
      "text/plain": [
       "    fjac: array([[-1.]])\n",
       "     fun: array([-4.54747351e-13])\n",
       " message: 'The solution converged.'\n",
       "    nfev: 9\n",
       "     qtf: array([2.48292508e-07])\n",
       "       r: array([11563.362795])\n",
       "  status: 1\n",
       " success: True\n",
       "       x: array([0.04331652])"
      ]
     },
     "execution_count": 129,
     "metadata": {},
     "output_type": "execute_result"
    }
   ],
   "source": [
    "optimize.root(func, i_initial_guess, jac=False, method='hybr')"
   ]
  },
  {
   "cell_type": "code",
   "execution_count": 132,
   "metadata": {},
   "outputs": [
    {
     "data": {
      "text/plain": [
       "array([ 440.55216258,  440.4648079 ,  440.37744625, ..., -737.11314162,\n",
       "       -737.25531944, -737.39750079])"
      ]
     },
     "execution_count": 132,
     "metadata": {},
     "output_type": "execute_result"
    }
   ],
   "source": [
    "func(np.linspace(0.0001, 0.1, 10000))"
   ]
  },
  {
   "cell_type": "code",
   "execution_count": 121,
   "metadata": {},
   "outputs": [
    {
     "data": {
      "text/plain": [
       "1090.1477210401122"
      ]
     },
     "execution_count": 121,
     "metadata": {},
     "output_type": "execute_result"
    }
   ],
   "source": [
    "func(0.000110)"
   ]
  },
  {
   "cell_type": "code",
   "execution_count": 95,
   "metadata": {},
   "outputs": [
    {
     "data": {
      "text/plain": [
       "1113.426112"
      ]
     },
     "execution_count": 95,
     "metadata": {},
     "output_type": "execute_result"
    }
   ],
   "source": [
    "amortization_amount"
   ]
  },
  {
   "cell_type": "code",
   "execution_count": 110,
   "metadata": {},
   "outputs": [
    {
     "data": {
      "text/plain": [
       "1079.0527823174268"
      ]
     },
     "execution_count": 110,
     "metadata": {},
     "output_type": "execute_result"
    }
   ],
   "source": [
    "func(0.0012407504610527642)"
   ]
  },
  {
   "cell_type": "code",
   "execution_count": 117,
   "metadata": {},
   "outputs": [
    {
     "data": {
      "text/html": [
       "<div>\n",
       "<style scoped>\n",
       "    .dataframe tbody tr th:only-of-type {\n",
       "        vertical-align: middle;\n",
       "    }\n",
       "\n",
       "    .dataframe tbody tr th {\n",
       "        vertical-align: top;\n",
       "    }\n",
       "\n",
       "    .dataframe thead th {\n",
       "        text-align: right;\n",
       "    }\n",
       "</style>\n",
       "<table border=\"1\" class=\"dataframe\">\n",
       "  <thead>\n",
       "    <tr style=\"text-align: right;\">\n",
       "      <th></th>\n",
       "      <th>0</th>\n",
       "    </tr>\n",
       "  </thead>\n",
       "  <tbody>\n",
       "    <tr>\n",
       "      <th>0</th>\n",
       "      <td>-23.192069</td>\n",
       "    </tr>\n",
       "    <tr>\n",
       "      <th>1</th>\n",
       "      <td>-23.277612</td>\n",
       "    </tr>\n",
       "    <tr>\n",
       "      <th>2</th>\n",
       "      <td>-23.363362</td>\n",
       "    </tr>\n",
       "    <tr>\n",
       "      <th>3</th>\n",
       "      <td>-23.449319</td>\n",
       "    </tr>\n",
       "    <tr>\n",
       "      <th>4</th>\n",
       "      <td>-23.535482</td>\n",
       "    </tr>\n",
       "    <tr>\n",
       "      <th>...</th>\n",
       "      <td>...</td>\n",
       "    </tr>\n",
       "    <tr>\n",
       "      <th>995</th>\n",
       "      <td>-167.431101</td>\n",
       "    </tr>\n",
       "    <tr>\n",
       "      <th>996</th>\n",
       "      <td>-167.596969</td>\n",
       "    </tr>\n",
       "    <tr>\n",
       "      <th>997</th>\n",
       "      <td>-167.762842</td>\n",
       "    </tr>\n",
       "    <tr>\n",
       "      <th>998</th>\n",
       "      <td>-167.928718</td>\n",
       "    </tr>\n",
       "    <tr>\n",
       "      <th>999</th>\n",
       "      <td>-168.094598</td>\n",
       "    </tr>\n",
       "  </tbody>\n",
       "</table>\n",
       "<p>1000 rows × 1 columns</p>\n",
       "</div>"
      ],
      "text/plain": [
       "              0\n",
       "0    -23.192069\n",
       "1    -23.277612\n",
       "2    -23.363362\n",
       "3    -23.449319\n",
       "4    -23.535482\n",
       "..          ...\n",
       "995 -167.431101\n",
       "996 -167.596969\n",
       "997 -167.762842\n",
       "998 -167.928718\n",
       "999 -168.094598\n",
       "\n",
       "[1000 rows x 1 columns]"
      ]
     },
     "execution_count": 117,
     "metadata": {},
     "output_type": "execute_result"
    }
   ],
   "source": [
    "pd.DataFrame(func(i)-A)"
   ]
  },
  {
   "cell_type": "code",
   "execution_count": null,
   "metadata": {},
   "outputs": [],
   "source": []
  },
  {
   "cell_type": "code",
   "execution_count": 12,
   "metadata": {},
   "outputs": [
    {
     "data": {
      "text/html": [
       "<div>\n",
       "<style scoped>\n",
       "    .dataframe tbody tr th:only-of-type {\n",
       "        vertical-align: middle;\n",
       "    }\n",
       "\n",
       "    .dataframe tbody tr th {\n",
       "        vertical-align: top;\n",
       "    }\n",
       "\n",
       "    .dataframe thead th {\n",
       "        text-align: right;\n",
       "    }\n",
       "</style>\n",
       "<table border=\"1\" class=\"dataframe\">\n",
       "  <thead>\n",
       "    <tr style=\"text-align: right;\">\n",
       "      <th></th>\n",
       "      <th>installDates</th>\n",
       "      <th>payDayDates</th>\n",
       "      <th>number</th>\n",
       "      <th>amortization_amount</th>\n",
       "      <th>interest</th>\n",
       "      <th>principal</th>\n",
       "      <th>balance</th>\n",
       "    </tr>\n",
       "  </thead>\n",
       "  <tbody>\n",
       "    <tr>\n",
       "      <th>0</th>\n",
       "      <td>2020-12-20</td>\n",
       "      <td>2020-12-21</td>\n",
       "      <td>1</td>\n",
       "      <td>1113.426112</td>\n",
       "      <td>1118.933969</td>\n",
       "      <td>-5.507857</td>\n",
       "      <td>16805.507857</td>\n",
       "    </tr>\n",
       "    <tr>\n",
       "      <th>1</th>\n",
       "      <td>2021-01-20</td>\n",
       "      <td>2021-01-20</td>\n",
       "      <td>2</td>\n",
       "      <td>1113.426112</td>\n",
       "      <td>658.570459</td>\n",
       "      <td>454.855653</td>\n",
       "      <td>16350.652205</td>\n",
       "    </tr>\n",
       "    <tr>\n",
       "      <th>2</th>\n",
       "      <td>2021-02-20</td>\n",
       "      <td>2021-02-22</td>\n",
       "      <td>3</td>\n",
       "      <td>1113.426112</td>\n",
       "      <td>640.745678</td>\n",
       "      <td>472.680434</td>\n",
       "      <td>15877.971771</td>\n",
       "    </tr>\n",
       "    <tr>\n",
       "      <th>3</th>\n",
       "      <td>2021-03-20</td>\n",
       "      <td>2021-03-22</td>\n",
       "      <td>4</td>\n",
       "      <td>1113.426112</td>\n",
       "      <td>560.956607</td>\n",
       "      <td>552.469505</td>\n",
       "      <td>15325.502266</td>\n",
       "    </tr>\n",
       "    <tr>\n",
       "      <th>4</th>\n",
       "      <td>2021-04-20</td>\n",
       "      <td>2021-04-20</td>\n",
       "      <td>5</td>\n",
       "      <td>1113.426112</td>\n",
       "      <td>600.572333</td>\n",
       "      <td>512.853779</td>\n",
       "      <td>14812.648487</td>\n",
       "    </tr>\n",
       "    <tr>\n",
       "      <th>5</th>\n",
       "      <td>2021-05-20</td>\n",
       "      <td>2021-05-20</td>\n",
       "      <td>6</td>\n",
       "      <td>1113.426112</td>\n",
       "      <td>561.399378</td>\n",
       "      <td>552.026734</td>\n",
       "      <td>14260.621753</td>\n",
       "    </tr>\n",
       "    <tr>\n",
       "      <th>6</th>\n",
       "      <td>2021-06-20</td>\n",
       "      <td>2021-06-21</td>\n",
       "      <td>7</td>\n",
       "      <td>1113.426112</td>\n",
       "      <td>558.842035</td>\n",
       "      <td>554.584077</td>\n",
       "      <td>13706.037676</td>\n",
       "    </tr>\n",
       "    <tr>\n",
       "      <th>7</th>\n",
       "      <td>2021-07-20</td>\n",
       "      <td>2021-07-20</td>\n",
       "      <td>8</td>\n",
       "      <td>1113.426112</td>\n",
       "      <td>519.458828</td>\n",
       "      <td>593.967284</td>\n",
       "      <td>13112.070392</td>\n",
       "    </tr>\n",
       "    <tr>\n",
       "      <th>8</th>\n",
       "      <td>2021-08-20</td>\n",
       "      <td>2021-08-20</td>\n",
       "      <td>9</td>\n",
       "      <td>1113.426112</td>\n",
       "      <td>513.832863</td>\n",
       "      <td>599.593249</td>\n",
       "      <td>12512.477143</td>\n",
       "    </tr>\n",
       "    <tr>\n",
       "      <th>9</th>\n",
       "      <td>2021-09-20</td>\n",
       "      <td>2021-09-20</td>\n",
       "      <td>10</td>\n",
       "      <td>1113.426112</td>\n",
       "      <td>490.336138</td>\n",
       "      <td>623.089974</td>\n",
       "      <td>11889.387169</td>\n",
       "    </tr>\n",
       "    <tr>\n",
       "      <th>10</th>\n",
       "      <td>2021-10-20</td>\n",
       "      <td>2021-10-20</td>\n",
       "      <td>11</td>\n",
       "      <td>1113.426112</td>\n",
       "      <td>450.607774</td>\n",
       "      <td>662.818338</td>\n",
       "      <td>11226.568831</td>\n",
       "    </tr>\n",
       "    <tr>\n",
       "      <th>11</th>\n",
       "      <td>2021-11-20</td>\n",
       "      <td>2021-11-22</td>\n",
       "      <td>12</td>\n",
       "      <td>1113.426112</td>\n",
       "      <td>439.944252</td>\n",
       "      <td>673.481860</td>\n",
       "      <td>10553.086971</td>\n",
       "    </tr>\n",
       "    <tr>\n",
       "      <th>12</th>\n",
       "      <td>2021-12-20</td>\n",
       "      <td>2021-12-20</td>\n",
       "      <td>13</td>\n",
       "      <td>1113.426112</td>\n",
       "      <td>399.961996</td>\n",
       "      <td>713.464116</td>\n",
       "      <td>9839.622856</td>\n",
       "    </tr>\n",
       "    <tr>\n",
       "      <th>13</th>\n",
       "      <td>2022-01-20</td>\n",
       "      <td>2022-01-20</td>\n",
       "      <td>14</td>\n",
       "      <td>1113.426112</td>\n",
       "      <td>385.592926</td>\n",
       "      <td>727.833186</td>\n",
       "      <td>9111.789669</td>\n",
       "    </tr>\n",
       "    <tr>\n",
       "      <th>14</th>\n",
       "      <td>2022-02-20</td>\n",
       "      <td>2022-02-21</td>\n",
       "      <td>15</td>\n",
       "      <td>1113.426112</td>\n",
       "      <td>357.070763</td>\n",
       "      <td>756.355349</td>\n",
       "      <td>8355.434320</td>\n",
       "    </tr>\n",
       "    <tr>\n",
       "      <th>15</th>\n",
       "      <td>2022-03-20</td>\n",
       "      <td>2022-03-21</td>\n",
       "      <td>16</td>\n",
       "      <td>1113.426112</td>\n",
       "      <td>295.191108</td>\n",
       "      <td>818.235003</td>\n",
       "      <td>7537.199316</td>\n",
       "    </tr>\n",
       "    <tr>\n",
       "      <th>16</th>\n",
       "      <td>2022-04-20</td>\n",
       "      <td>2022-04-20</td>\n",
       "      <td>17</td>\n",
       "      <td>1113.426112</td>\n",
       "      <td>295.366070</td>\n",
       "      <td>818.060042</td>\n",
       "      <td>6719.139275</td>\n",
       "    </tr>\n",
       "    <tr>\n",
       "      <th>17</th>\n",
       "      <td>2022-05-20</td>\n",
       "      <td>2022-05-20</td>\n",
       "      <td>18</td>\n",
       "      <td>1113.426112</td>\n",
       "      <td>254.655379</td>\n",
       "      <td>858.770733</td>\n",
       "      <td>5860.368541</td>\n",
       "    </tr>\n",
       "    <tr>\n",
       "      <th>18</th>\n",
       "      <td>2022-06-20</td>\n",
       "      <td>2022-06-20</td>\n",
       "      <td>19</td>\n",
       "      <td>1113.426112</td>\n",
       "      <td>229.654803</td>\n",
       "      <td>883.771309</td>\n",
       "      <td>4976.597233</td>\n",
       "    </tr>\n",
       "    <tr>\n",
       "      <th>19</th>\n",
       "      <td>2022-07-20</td>\n",
       "      <td>2022-07-20</td>\n",
       "      <td>20</td>\n",
       "      <td>1113.426112</td>\n",
       "      <td>188.613035</td>\n",
       "      <td>924.813077</td>\n",
       "      <td>4051.784156</td>\n",
       "    </tr>\n",
       "    <tr>\n",
       "      <th>20</th>\n",
       "      <td>2022-08-20</td>\n",
       "      <td>2022-08-22</td>\n",
       "      <td>21</td>\n",
       "      <td>1113.426112</td>\n",
       "      <td>158.780405</td>\n",
       "      <td>954.645706</td>\n",
       "      <td>3097.138449</td>\n",
       "    </tr>\n",
       "    <tr>\n",
       "      <th>21</th>\n",
       "      <td>2022-09-20</td>\n",
       "      <td>2022-09-20</td>\n",
       "      <td>22</td>\n",
       "      <td>1113.426112</td>\n",
       "      <td>121.369964</td>\n",
       "      <td>992.056148</td>\n",
       "      <td>2105.082302</td>\n",
       "    </tr>\n",
       "    <tr>\n",
       "      <th>22</th>\n",
       "      <td>2022-10-20</td>\n",
       "      <td>2022-10-20</td>\n",
       "      <td>23</td>\n",
       "      <td>1113.426112</td>\n",
       "      <td>79.782619</td>\n",
       "      <td>1033.643493</td>\n",
       "      <td>1071.438809</td>\n",
       "    </tr>\n",
       "    <tr>\n",
       "      <th>23</th>\n",
       "      <td>2022-11-20</td>\n",
       "      <td>2022-11-21</td>\n",
       "      <td>24</td>\n",
       "      <td>1113.426112</td>\n",
       "      <td>41.987303</td>\n",
       "      <td>1071.438809</td>\n",
       "      <td>0.000000</td>\n",
       "    </tr>\n",
       "  </tbody>\n",
       "</table>\n",
       "</div>"
      ],
      "text/plain": [
       "   installDates payDayDates  number  amortization_amount     interest  \\\n",
       "0    2020-12-20  2020-12-21       1          1113.426112  1118.933969   \n",
       "1    2021-01-20  2021-01-20       2          1113.426112   658.570459   \n",
       "2    2021-02-20  2021-02-22       3          1113.426112   640.745678   \n",
       "3    2021-03-20  2021-03-22       4          1113.426112   560.956607   \n",
       "4    2021-04-20  2021-04-20       5          1113.426112   600.572333   \n",
       "5    2021-05-20  2021-05-20       6          1113.426112   561.399378   \n",
       "6    2021-06-20  2021-06-21       7          1113.426112   558.842035   \n",
       "7    2021-07-20  2021-07-20       8          1113.426112   519.458828   \n",
       "8    2021-08-20  2021-08-20       9          1113.426112   513.832863   \n",
       "9    2021-09-20  2021-09-20      10          1113.426112   490.336138   \n",
       "10   2021-10-20  2021-10-20      11          1113.426112   450.607774   \n",
       "11   2021-11-20  2021-11-22      12          1113.426112   439.944252   \n",
       "12   2021-12-20  2021-12-20      13          1113.426112   399.961996   \n",
       "13   2022-01-20  2022-01-20      14          1113.426112   385.592926   \n",
       "14   2022-02-20  2022-02-21      15          1113.426112   357.070763   \n",
       "15   2022-03-20  2022-03-21      16          1113.426112   295.191108   \n",
       "16   2022-04-20  2022-04-20      17          1113.426112   295.366070   \n",
       "17   2022-05-20  2022-05-20      18          1113.426112   254.655379   \n",
       "18   2022-06-20  2022-06-20      19          1113.426112   229.654803   \n",
       "19   2022-07-20  2022-07-20      20          1113.426112   188.613035   \n",
       "20   2022-08-20  2022-08-22      21          1113.426112   158.780405   \n",
       "21   2022-09-20  2022-09-20      22          1113.426112   121.369964   \n",
       "22   2022-10-20  2022-10-20      23          1113.426112    79.782619   \n",
       "23   2022-11-20  2022-11-21      24          1113.426112    41.987303   \n",
       "\n",
       "      principal       balance  \n",
       "0     -5.507857  16805.507857  \n",
       "1    454.855653  16350.652205  \n",
       "2    472.680434  15877.971771  \n",
       "3    552.469505  15325.502266  \n",
       "4    512.853779  14812.648487  \n",
       "5    552.026734  14260.621753  \n",
       "6    554.584077  13706.037676  \n",
       "7    593.967284  13112.070392  \n",
       "8    599.593249  12512.477143  \n",
       "9    623.089974  11889.387169  \n",
       "10   662.818338  11226.568831  \n",
       "11   673.481860  10553.086971  \n",
       "12   713.464116   9839.622856  \n",
       "13   727.833186   9111.789669  \n",
       "14   756.355349   8355.434320  \n",
       "15   818.235003   7537.199316  \n",
       "16   818.060042   6719.139275  \n",
       "17   858.770733   5860.368541  \n",
       "18   883.771309   4976.597233  \n",
       "19   924.813077   4051.784156  \n",
       "20   954.645706   3097.138449  \n",
       "21   992.056148   2105.082302  \n",
       "22  1033.643493   1071.438809  \n",
       "23  1071.438809      0.000000  "
      ]
     },
     "execution_count": 12,
     "metadata": {},
     "output_type": "execute_result"
    }
   ],
   "source": [
    "installments"
   ]
  },
  {
   "cell_type": "code",
   "execution_count": 13,
   "metadata": {},
   "outputs": [
    {
     "ename": "NameError",
     "evalue": "name 'installments' is not defined",
     "output_type": "error",
     "traceback": [
      "\u001b[1;31m---------------------------------------------------------------------------\u001b[0m",
      "\u001b[1;31mNameError\u001b[0m                                 Traceback (most recent call last)",
      "\u001b[1;32m~\\AppData\\Local\\Temp/ipykernel_21680/2310197857.py\u001b[0m in \u001b[0;36m<module>\u001b[1;34m\u001b[0m\n\u001b[0;32m      1\u001b[0m \u001b[0minitial_amount\u001b[0m \u001b[1;33m=\u001b[0m \u001b[1;36m16000\u001b[0m\u001b[1;33m\u001b[0m\u001b[1;33m\u001b[0m\u001b[0m\n\u001b[0;32m      2\u001b[0m \u001b[1;33m\u001b[0m\u001b[0m\n\u001b[1;32m----> 3\u001b[1;33m \u001b[0marray_irr\u001b[0m \u001b[1;33m=\u001b[0m \u001b[1;33m[\u001b[0m \u001b[1;33m(\u001b[0m\u001b[0mi\u001b[0m\u001b[1;33m[\u001b[0m\u001b[1;36m1\u001b[0m\u001b[1;33m]\u001b[0m\u001b[1;33m,\u001b[0m \u001b[0mi\u001b[0m\u001b[1;33m[\u001b[0m\u001b[1;36m0\u001b[0m\u001b[1;33m]\u001b[0m\u001b[1;33m)\u001b[0m \u001b[1;32mfor\u001b[0m \u001b[0mi\u001b[0m \u001b[1;32min\u001b[0m \u001b[0minstallments\u001b[0m\u001b[1;33m[\u001b[0m\u001b[1;33m[\u001b[0m\u001b[1;34m'amortization_amount'\u001b[0m\u001b[1;33m,\u001b[0m\u001b[1;34m'installDates'\u001b[0m\u001b[1;33m]\u001b[0m\u001b[1;33m]\u001b[0m\u001b[1;33m.\u001b[0m\u001b[0mvalues\u001b[0m \u001b[1;33m]\u001b[0m\u001b[1;33m\u001b[0m\u001b[1;33m\u001b[0m\u001b[0m\n\u001b[0m\u001b[0;32m      4\u001b[0m \u001b[1;33m\u001b[0m\u001b[0m\n\u001b[0;32m      5\u001b[0m \u001b[0maddDay\u001b[0m \u001b[1;33m=\u001b[0m \u001b[0mdatetime\u001b[0m\u001b[1;33m.\u001b[0m\u001b[0mdate\u001b[0m\u001b[1;33m(\u001b[0m\u001b[0mrDisbursementDate\u001b[0m\u001b[1;33m.\u001b[0m\u001b[0myear\u001b[0m\u001b[1;33m,\u001b[0m \u001b[0mrDisbursementDate\u001b[0m\u001b[1;33m.\u001b[0m\u001b[0mmonth\u001b[0m\u001b[1;33m,\u001b[0m \u001b[0mrDisbursementDate\u001b[0m\u001b[1;33m.\u001b[0m\u001b[0mday\u001b[0m\u001b[1;33m)\u001b[0m\u001b[1;33m\u001b[0m\u001b[1;33m\u001b[0m\u001b[0m\n",
      "\u001b[1;31mNameError\u001b[0m: name 'installments' is not defined"
     ]
    }
   ],
   "source": [
    "initial_amount = 16000\n",
    "\n",
    "array_irr = [ (i[1], i[0]) for i in installments[['amortization_amount','installDates']].values ]\n",
    "\n",
    "addDay = datetime.date(rDisbursementDate.year, rDisbursementDate.month, rDisbursementDate.day)\n",
    "\n",
    "array_irr.insert(0,(datetime.date(addDay.year, addDay.month, addDay.day),-initial_amount))\n",
    "\n",
    "annualCet = np.round(xirr(array_irr),6)\n",
    "\n",
    "cet = ((annualCet+1)**(30/365))-1\n",
    "\n",
    "annualCet = ((1+cet)**12) - 1\n",
    "\n",
    "annualCet,cet"
   ]
  },
  {
   "cell_type": "code",
   "execution_count": 48,
   "metadata": {},
   "outputs": [],
   "source": [
    "days_each_month, installDates, payDay = returnDaysEachMonth(period, datetime.datetime.strptime('20-12-2020', '%d-%m-%Y'), datetime.datetime.strptime('20-11-2020', '%d-%m-%Y'))"
   ]
  },
  {
   "cell_type": "code",
   "execution_count": 84,
   "metadata": {},
   "outputs": [
    {
     "name": "stdout",
     "output_type": "stream",
     "text": [
      "0.04292112688471161 0.655837\n",
      "0.042320897814650094 0.644437386263919\n"
     ]
    },
    {
     "data": {
      "text/plain": [
       "({'installDates': {0: datetime.date(2020, 12, 20),\n",
       "   1: datetime.date(2021, 1, 20),\n",
       "   2: datetime.date(2021, 2, 20),\n",
       "   3: datetime.date(2021, 3, 20),\n",
       "   4: datetime.date(2021, 4, 20),\n",
       "   5: datetime.date(2021, 5, 20),\n",
       "   6: datetime.date(2021, 6, 20),\n",
       "   7: datetime.date(2021, 7, 20),\n",
       "   8: datetime.date(2021, 8, 20),\n",
       "   9: datetime.date(2021, 9, 20),\n",
       "   10: datetime.date(2021, 10, 20),\n",
       "   11: datetime.date(2021, 11, 20),\n",
       "   12: datetime.date(2021, 12, 20),\n",
       "   13: datetime.date(2022, 1, 20),\n",
       "   14: datetime.date(2022, 2, 20),\n",
       "   15: datetime.date(2022, 3, 20),\n",
       "   16: datetime.date(2022, 4, 20),\n",
       "   17: datetime.date(2022, 5, 20),\n",
       "   18: datetime.date(2022, 6, 20),\n",
       "   19: datetime.date(2022, 7, 20),\n",
       "   20: datetime.date(2022, 8, 20),\n",
       "   21: datetime.date(2022, 9, 20),\n",
       "   22: datetime.date(2022, 10, 20),\n",
       "   23: datetime.date(2022, 11, 20)},\n",
       "  'payDayDates': {0: datetime.date(2020, 12, 21),\n",
       "   1: datetime.date(2021, 1, 20),\n",
       "   2: datetime.date(2021, 2, 22),\n",
       "   3: datetime.date(2021, 3, 22),\n",
       "   4: datetime.date(2021, 4, 20),\n",
       "   5: datetime.date(2021, 5, 20),\n",
       "   6: datetime.date(2021, 6, 21),\n",
       "   7: datetime.date(2021, 7, 20),\n",
       "   8: datetime.date(2021, 8, 20),\n",
       "   9: datetime.date(2021, 9, 20),\n",
       "   10: datetime.date(2021, 10, 20),\n",
       "   11: datetime.date(2021, 11, 22),\n",
       "   12: datetime.date(2021, 12, 20),\n",
       "   13: datetime.date(2022, 1, 20),\n",
       "   14: datetime.date(2022, 2, 21),\n",
       "   15: datetime.date(2022, 3, 21),\n",
       "   16: datetime.date(2022, 4, 20),\n",
       "   17: datetime.date(2022, 5, 20),\n",
       "   18: datetime.date(2022, 6, 20),\n",
       "   19: datetime.date(2022, 7, 20),\n",
       "   20: datetime.date(2022, 8, 22),\n",
       "   21: datetime.date(2022, 9, 20),\n",
       "   22: datetime.date(2022, 10, 20),\n",
       "   23: datetime.date(2022, 11, 21)},\n",
       "  'number': {0: 1,\n",
       "   1: 2,\n",
       "   2: 3,\n",
       "   3: 4,\n",
       "   4: 5,\n",
       "   5: 6,\n",
       "   6: 7,\n",
       "   7: 8,\n",
       "   8: 9,\n",
       "   9: 10,\n",
       "   10: 11,\n",
       "   11: 12,\n",
       "   12: 13,\n",
       "   13: 14,\n",
       "   14: 15,\n",
       "   15: 16,\n",
       "   16: 17,\n",
       "   17: 18,\n",
       "   18: 19,\n",
       "   19: 20,\n",
       "   20: 21,\n",
       "   21: 22,\n",
       "   22: 23,\n",
       "   23: 24},\n",
       "  'amortization_amount': {0: 1113.4261119189464,\n",
       "   1: 1113.4261119189464,\n",
       "   2: 1113.4261119189464,\n",
       "   3: 1113.4261119189464,\n",
       "   4: 1113.4261119189464,\n",
       "   5: 1113.4261119189464,\n",
       "   6: 1113.4261119189464,\n",
       "   7: 1113.4261119189464,\n",
       "   8: 1113.4261119189464,\n",
       "   9: 1113.4261119189464,\n",
       "   10: 1113.4261119189464,\n",
       "   11: 1113.4261119189464,\n",
       "   12: 1113.4261119189464,\n",
       "   13: 1113.4261119189464,\n",
       "   14: 1113.4261119189464,\n",
       "   15: 1113.4261119189464,\n",
       "   16: 1113.4261119189464,\n",
       "   17: 1113.4261119189464,\n",
       "   18: 1113.4261119189464,\n",
       "   19: 1113.4261119189464,\n",
       "   20: 1113.4261119189464,\n",
       "   21: 1113.4261119189464,\n",
       "   22: 1113.4261119189464,\n",
       "   23: 1113.4261119189464},\n",
       "  'interest': {0: 1118.9339693004626,\n",
       "   1: 658.5704590545172,\n",
       "   2: 640.7456781164692,\n",
       "   3: 560.9566070814193,\n",
       "   4: 600.5723330786805,\n",
       "   5: 561.3993776586959,\n",
       "   6: 558.8420352321452,\n",
       "   7: 519.4588279238027,\n",
       "   8: 513.8328630446018,\n",
       "   9: 490.33613777403974,\n",
       "   10: 450.60777370795705,\n",
       "   11: 439.9442522828629,\n",
       "   12: 399.9619962095529,\n",
       "   13: 385.592925597672,\n",
       "   14: 357.0707625247972,\n",
       "   15: 295.1911084369978,\n",
       "   16: 295.36607021102395,\n",
       "   17: 254.65537850785606,\n",
       "   18: 229.6548032443538,\n",
       "   19: 188.6130351128086,\n",
       "   20: 158.78040545210163,\n",
       "   21: 121.36996439446064,\n",
       "   22: 79.7826192355844,\n",
       "   23: 41.98730287184035},\n",
       "  'principal': {0: -5.50785738151626,\n",
       "   1: 454.8556528644292,\n",
       "   2: 472.6804338024772,\n",
       "   3: 552.4695048375271,\n",
       "   4: 512.8537788402659,\n",
       "   5: 552.0267342602505,\n",
       "   6: 554.5840766868012,\n",
       "   7: 593.9672839951437,\n",
       "   8: 599.5932488743446,\n",
       "   9: 623.0899741449066,\n",
       "   10: 662.8183382109894,\n",
       "   11: 673.4818596360835,\n",
       "   12: 713.4641157093935,\n",
       "   13: 727.8331863212744,\n",
       "   14: 756.3553493941492,\n",
       "   15: 818.2350034819485,\n",
       "   16: 818.0600417079224,\n",
       "   17: 858.7707334110903,\n",
       "   18: 883.7713086745925,\n",
       "   19: 924.8130768061378,\n",
       "   20: 954.6457064668448,\n",
       "   21: 992.0561475244857,\n",
       "   22: 1033.643492683362,\n",
       "   23: 1071.4388090471061},\n",
       "  'balance': {0: 16805.507857381515,\n",
       "   1: 16350.652204517086,\n",
       "   2: 15877.971770714608,\n",
       "   3: 15325.502265877081,\n",
       "   4: 14812.648487036815,\n",
       "   5: 14260.621752776564,\n",
       "   6: 13706.037676089763,\n",
       "   7: 13112.07039209462,\n",
       "   8: 12512.477143220276,\n",
       "   9: 11889.38716907537,\n",
       "   10: 11226.56883086438,\n",
       "   11: 10553.086971228297,\n",
       "   12: 9839.622855518903,\n",
       "   13: 9111.789669197628,\n",
       "   14: 8355.434319803479,\n",
       "   15: 7537.19931632153,\n",
       "   16: 6719.139274613608,\n",
       "   17: 5860.368541202518,\n",
       "   18: 4976.597232527925,\n",
       "   19: 4051.7841557217876,\n",
       "   20: 3097.1384492549428,\n",
       "   21: 2105.082301730457,\n",
       "   22: 1071.438809047095,\n",
       "   23: 0.0}},\n",
       " 0.042320897814650094,\n",
       " 0.644437386263919,\n",
       " 0)"
      ]
     },
     "execution_count": 84,
     "metadata": {},
     "output_type": "execute_result"
    }
   ],
   "source": [
    "calculate_amortization_schedule_with_taxes(16800, 16000, 0.0379, period=24, iof=False, rPaymentDate=rPaymentDate, rDisbursementDate=rDisbursementDate)"
   ]
  },
  {
   "cell_type": "markdown",
   "metadata": {},
   "source": [
    "# IRR"
   ]
  },
  {
   "cell_type": "code",
   "execution_count": 271,
   "metadata": {},
   "outputs": [
    {
     "data": {
      "text/plain": [
       "('cet 4.7253%', 'Annual Cet 74.0274%')"
      ]
     },
     "execution_count": 271,
     "metadata": {},
     "output_type": "execute_result"
    }
   ],
   "source": [
    "initial_amount = 65000\n",
    "array_irr = list(installments['amortization_amount'].values)\n",
    "array_irr.insert(0,-initial_amount)\n",
    "\n",
    "cet = np.irr(array_irr)\n",
    "annualCet = (1+cet)**12-1\n",
    "\n",
    "'cet ' + str(np.round(cet*100,4))+'%','Annual Cet ' + str(np.round(annualCet*100,4))+'%'"
   ]
  },
  {
   "cell_type": "markdown",
   "metadata": {},
   "source": [
    "# XIRR"
   ]
  },
  {
   "cell_type": "code",
   "execution_count": 272,
   "metadata": {},
   "outputs": [],
   "source": [
    "def xirr(transactions):\n",
    "    years = [(ta[0] - transactions[0][0]).days / 365.0 for ta in transactions]\n",
    "    residual = 1\n",
    "    step = 0.05\n",
    "    guess = 0.05\n",
    "    epsilon = 0.0001\n",
    "    limit = 10000\n",
    "    while abs(residual) > epsilon and limit > 0:\n",
    "        limit -= 1\n",
    "        residual = 0.0\n",
    "        for i, ta in enumerate(transactions):\n",
    "            residual += ta[1] / pow(guess, years[i])\n",
    "        if abs(residual) > epsilon:\n",
    "            if residual > 0:\n",
    "                guess += step\n",
    "            else:\n",
    "                guess -= step\n",
    "                step /= 2.0\n",
    "    return guess-1"
   ]
  },
  {
   "cell_type": "code",
   "execution_count": 273,
   "metadata": {},
   "outputs": [],
   "source": [
    "array_irr = [ (i[1], i[0]) for i in installments[['amortization_amount','installDates']].values ]"
   ]
  },
  {
   "cell_type": "code",
   "execution_count": 274,
   "metadata": {},
   "outputs": [],
   "source": [
    "array_irr.insert(0,(datetime.date(rDisbursementDate.year, rDisbursementDate.month, rDisbursementDate.day+1),-65000))"
   ]
  },
  {
   "cell_type": "code",
   "execution_count": 275,
   "metadata": {},
   "outputs": [
    {
     "data": {
      "text/plain": [
       "'Annual Cet 68.2616%'"
      ]
     },
     "execution_count": 275,
     "metadata": {},
     "output_type": "execute_result"
    }
   ],
   "source": [
    "'Annual Cet ' + str(np.round(xirr(array_irr)*100,4))+'%'"
   ]
  },
  {
   "cell_type": "code",
   "execution_count": 276,
   "metadata": {},
   "outputs": [],
   "source": [
    "def xirr(df, guess=0.05, date_column='date', amount_column='amount'):\n",
    "    '''Calculates XIRR from a series of cashflows. \n",
    "       Needs a dataframe with columns date and amount, customisable through parameters. \n",
    "       Requires Pandas, NumPy libraries'''\n",
    "\n",
    "    df = df.sort_values(by=date_column).reset_index(drop=True)\n",
    "\n",
    "    amounts = df[amount_column].values\n",
    "    dates = df[date_column].values\n",
    "\n",
    "    years = np.array(dates-dates[0], dtype='timedelta64[D]').astype(int)/365\n",
    "\n",
    "    step = 0.05\n",
    "    epsilon = 0.0001\n",
    "    limit = 1000\n",
    "    residual = 1\n",
    "\n",
    "    #Test for direction of cashflows\n",
    "    disc_val_1 = np.sum(amounts/((1+guess)**years))\n",
    "    disc_val_2 = np.sum(amounts/((1.05+guess)**years))\n",
    "    mul = 1 if disc_val_2 < disc_val_1 else -1\n",
    "\n",
    "    #Calculate XIRR    \n",
    "    for i in range(limit):\n",
    "        prev_residual = residual\n",
    "        residual = np.sum(amounts/((1+guess)**years))\n",
    "        if abs(residual) > epsilon:\n",
    "            if np.sign(residual) != np.sign(prev_residual):\n",
    "                step /= 2\n",
    "            guess = guess + step * np.sign(residual) * mul   \n",
    "        else:\n",
    "            return guess"
   ]
  },
  {
   "cell_type": "code",
   "execution_count": 277,
   "metadata": {},
   "outputs": [
    {
     "data": {
      "text/plain": [
       "'Annual Cet 68.2616%'"
      ]
     },
     "execution_count": 277,
     "metadata": {},
     "output_type": "execute_result"
    }
   ],
   "source": [
    "'Annual Cet ' + str(np.round(xirr(pd.DataFrame(array_irr),0.04,0,1)*100,4))+'%'"
   ]
  },
  {
   "cell_type": "code",
   "execution_count": 236,
   "metadata": {},
   "outputs": [],
   "source": [
    "from scipy import optimize"
   ]
  },
  {
   "cell_type": "code",
   "execution_count": 237,
   "metadata": {},
   "outputs": [],
   "source": [
    "def xnpv(rate, values, dates):\n",
    "    '''Equivalent of Excel's XNPV function.\n",
    "\n",
    "    >>> from datetime import date\n",
    "    >>> dates = [date(2010, 12, 29), date(2012, 1, 25), date(2012, 3, 8)]\n",
    "    >>> values = [-10000, 20, 10100]\n",
    "    >>> xnpv(0.1, values, dates)\n",
    "    -966.4345...\n",
    "    '''\n",
    "    if rate <= -1.0:\n",
    "        return float('inf')\n",
    "    d0 = dates[0]    # or min(dates)\n",
    "    return sum([ vi / (1.0 + rate)**((di - d0).days / 365.0) for vi, di in zip(values, dates)])\n",
    "\n",
    "def xirr(values, dates):\n",
    "    '''Equivalent of Excel's XIRR function.\n",
    "\n",
    "    >>> from datetime import date\n",
    "    >>> dates = [date(2010, 12, 29), date(2012, 1, 25), date(2012, 3, 8)]\n",
    "    >>> values = [-10000, 20, 10100]\n",
    "    >>> xirr(values, dates)\n",
    "    0.0100612...\n",
    "    '''\n",
    "    try:\n",
    "        return scipy.optimize.newton(lambda r: xnpv(r, values, dates), 0.0)\n",
    "    except RuntimeError:    # Failed to converge?\n",
    "        return scipy.optimize.brentq(lambda r: xnpv(r, values, dates), -1.0, 1e10)"
   ]
  },
  {
   "cell_type": "code",
   "execution_count": 238,
   "metadata": {},
   "outputs": [],
   "source": [
    "values = [ i[0] for i in installments[['amortization_amount','installDates']].values ]\n",
    "dates = [ i[1] for i in installments[['amortization_amount','installDates']].values ]\n",
    "values.insert(0,-65000)\n",
    "dates.insert(0,datetime.date(rDisbursementDate.year, rDisbursementDate.month, rDisbursementDate.day))"
   ]
  },
  {
   "cell_type": "code",
   "execution_count": 239,
   "metadata": {},
   "outputs": [
    {
     "data": {
      "text/plain": [
       "0.6826159706073737"
      ]
     },
     "execution_count": 239,
     "metadata": {},
     "output_type": "execute_result"
    }
   ],
   "source": [
    "xirr(values, dates)"
   ]
  },
  {
   "cell_type": "code",
   "execution_count": 2,
   "metadata": {},
   "outputs": [
    {
     "data": {
      "text/plain": [
       "0.04725264567610643"
      ]
     },
     "execution_count": 2,
     "metadata": {},
     "output_type": "execute_result"
    }
   ],
   "source": [
    "((0.740273849822884+1)**(1/12))-1"
   ]
  },
  {
   "cell_type": "code",
   "execution_count": null,
   "metadata": {},
   "outputs": [],
   "source": []
  }
 ],
 "metadata": {
  "kernelspec": {
   "display_name": "Python 3",
   "language": "python",
   "name": "python3"
  },
  "language_info": {
   "codemirror_mode": {
    "name": "ipython",
    "version": 3
   },
   "file_extension": ".py",
   "mimetype": "text/x-python",
   "name": "python",
   "nbconvert_exporter": "python",
   "pygments_lexer": "ipython3",
   "version": "3.9.7"
  }
 },
 "nbformat": 4,
 "nbformat_minor": 4
}
